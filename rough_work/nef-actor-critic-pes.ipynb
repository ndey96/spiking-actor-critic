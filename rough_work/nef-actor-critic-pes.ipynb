{
 "cells": [
  {
   "cell_type": "code",
   "execution_count": 1,
   "metadata": {},
   "outputs": [],
   "source": [
    "import nengo\n",
    "import nengo_ocl\n",
    "import numpy as np\n",
    "import matplotlib.pyplot as plt\n",
    "import gym\n",
    "\n",
    "def softmax(x):\n",
    "    return np.exp(x)/sum(np.exp(x))"
   ]
  },
  {
   "cell_type": "code",
   "execution_count": 9,
   "metadata": {},
   "outputs": [
    {
     "name": "stderr",
     "output_type": "stream",
     "text": [
      "/Users/nolandey/anaconda/envs/tensorflow3/lib/python3.6/site-packages/gym/logger.py:30: UserWarning: \u001b[33mWARN: Box bound precision lowered by casting to float32\u001b[0m\n",
      "  warnings.warn(colorize('%s: %s'%('WARN', msg % args), 'yellow'))\n"
     ]
    },
    {
     "data": {
      "text/html": [
       "\n",
       "                <div id=\"7bbfddf4-67a2-49a9-9714-fded26db66ab\" style=\"\n",
       "                    width: 100%;\n",
       "                    border: 1px solid #cfcfcf;\n",
       "                    border-radius: 4px;\n",
       "                    text-align: center;\n",
       "                    position: relative;\">\n",
       "                  <div class=\"pb-text\" style=\"\n",
       "                      position: absolute;\n",
       "                      width: 100%;\">\n",
       "                    0%\n",
       "                  </div>\n",
       "                  <div class=\"pb-fill\" style=\"\n",
       "                      background-color: #bdd2e6;\n",
       "                      width: 0%;\">\n",
       "                    <style type=\"text/css\" scoped=\"scoped\">\n",
       "                        @keyframes pb-fill-anim {\n",
       "                            0% { background-position: 0 0; }\n",
       "                            100% { background-position: 100px 0; }\n",
       "                        }\n",
       "                    </style>\n",
       "                    &nbsp;\n",
       "                  </div>\n",
       "                </div>"
      ],
      "text/plain": [
       "HtmlProgressBar cannot be displayed. Please use the TerminalProgressBar. It can be enabled with `nengo.rc.set('progress', 'progress_bar', 'nengo.utils.progress.TerminalProgressBar')`."
      ]
     },
     "metadata": {},
     "output_type": "display_data"
    },
    {
     "data": {
      "application/javascript": [
       "\n",
       "              (function () {\n",
       "                  var root = document.getElementById('7bbfddf4-67a2-49a9-9714-fded26db66ab');\n",
       "                  var text = root.getElementsByClassName('pb-text')[0];\n",
       "                  var fill = root.getElementsByClassName('pb-fill')[0];\n",
       "\n",
       "                  text.innerHTML = 'Build finished in 0:00:01.';\n",
       "                  \n",
       "            fill.style.width = '100%';\n",
       "            fill.style.animation = 'pb-fill-anim 2s linear infinite';\n",
       "            fill.style.backgroundSize = '100px 100%';\n",
       "            fill.style.backgroundImage = 'repeating-linear-gradient(' +\n",
       "                '90deg, #bdd2e6, #edf2f8 40%, #bdd2e6 80%, #bdd2e6)';\n",
       "        \n",
       "                  \n",
       "                fill.style.animation = 'none';\n",
       "                fill.style.backgroundImage = 'none';\n",
       "            \n",
       "              })();\n",
       "        "
      ],
      "text/plain": [
       "<IPython.core.display.Javascript object>"
      ]
     },
     "metadata": {},
     "output_type": "display_data"
    },
    {
     "data": {
      "text/html": [
       "\n",
       "                <div id=\"dfa76580-5b82-4c0b-b919-931b3a1d2f5c\" style=\"\n",
       "                    width: 100%;\n",
       "                    border: 1px solid #cfcfcf;\n",
       "                    border-radius: 4px;\n",
       "                    text-align: center;\n",
       "                    position: relative;\">\n",
       "                  <div class=\"pb-text\" style=\"\n",
       "                      position: absolute;\n",
       "                      width: 100%;\">\n",
       "                    0%\n",
       "                  </div>\n",
       "                  <div class=\"pb-fill\" style=\"\n",
       "                      background-color: #bdd2e6;\n",
       "                      width: 0%;\">\n",
       "                    <style type=\"text/css\" scoped=\"scoped\">\n",
       "                        @keyframes pb-fill-anim {\n",
       "                            0% { background-position: 0 0; }\n",
       "                            100% { background-position: 100px 0; }\n",
       "                        }\n",
       "                    </style>\n",
       "                    &nbsp;\n",
       "                  </div>\n",
       "                </div>"
      ],
      "text/plain": [
       "HtmlProgressBar cannot be displayed. Please use the TerminalProgressBar. It can be enabled with `nengo.rc.set('progress', 'progress_bar', 'nengo.utils.progress.TerminalProgressBar')`."
      ]
     },
     "metadata": {},
     "output_type": "display_data"
    },
    {
     "data": {
      "application/javascript": [
       "\n",
       "              (function () {\n",
       "                  var root = document.getElementById('dfa76580-5b82-4c0b-b919-931b3a1d2f5c');\n",
       "                  var text = root.getElementsByClassName('pb-text')[0];\n",
       "                  var fill = root.getElementsByClassName('pb-fill')[0];\n",
       "\n",
       "                  text.innerHTML = 'Simulation finished in 0:00:03.';\n",
       "                  \n",
       "            if (1.4540000000000002 > 0.) {\n",
       "                fill.style.transition = 'width 0.1s linear';\n",
       "            } else {\n",
       "                fill.style.transition = 'none';\n",
       "            }\n",
       "\n",
       "            fill.style.width = '1.4540000000000002%';\n",
       "            fill.style.animation = 'none';\n",
       "            fill.style.backgroundImage = 'none'\n",
       "        \n",
       "                  \n",
       "                fill.style.animation = 'none';\n",
       "                fill.style.backgroundImage = 'none';\n",
       "            \n",
       "              })();\n",
       "        "
      ],
      "text/plain": [
       "<IPython.core.display.Javascript object>"
      ]
     },
     "metadata": {},
     "output_type": "display_data"
    },
    {
     "ename": "KeyboardInterrupt",
     "evalue": "",
     "output_type": "error",
     "traceback": [
      "\u001b[0;31m----------------------------------------------------------------\u001b[0m",
      "\u001b[0;31mKeyboardInterrupt\u001b[0m              Traceback (most recent call last)",
      "\u001b[0;32m<ipython-input-9-aee62c0c3d9f>\u001b[0m in \u001b[0;36m<module>\u001b[0;34m()\u001b[0m\n\u001b[1;32m    198\u001b[0m \u001b[0;34m\u001b[0m\u001b[0m\n\u001b[1;32m    199\u001b[0m \u001b[0;32mwith\u001b[0m \u001b[0mnengo\u001b[0m\u001b[0;34m.\u001b[0m\u001b[0mSimulator\u001b[0m\u001b[0;34m(\u001b[0m\u001b[0mmodel\u001b[0m\u001b[0;34m)\u001b[0m \u001b[0;32mas\u001b[0m \u001b[0msim\u001b[0m\u001b[0;34m:\u001b[0m\u001b[0;34m\u001b[0m\u001b[0;34m\u001b[0m\u001b[0m\n\u001b[0;32m--> 200\u001b[0;31m     \u001b[0msim\u001b[0m\u001b[0;34m.\u001b[0m\u001b[0mrun\u001b[0m\u001b[0;34m(\u001b[0m\u001b[0;36m100\u001b[0m\u001b[0;34m)\u001b[0m\u001b[0;34m\u001b[0m\u001b[0;34m\u001b[0m\u001b[0m\n\u001b[0m\u001b[1;32m    201\u001b[0m \u001b[0;34m\u001b[0m\u001b[0m\n\u001b[1;32m    202\u001b[0m \u001b[0mmaster\u001b[0m\u001b[0;34m.\u001b[0m\u001b[0menv\u001b[0m\u001b[0;34m.\u001b[0m\u001b[0mclose\u001b[0m\u001b[0;34m(\u001b[0m\u001b[0;34m)\u001b[0m\u001b[0;34m\u001b[0m\u001b[0;34m\u001b[0m\u001b[0m\n",
      "\u001b[0;32m~/anaconda/envs/tensorflow3/lib/python3.6/site-packages/nengo/simulator.py\u001b[0m in \u001b[0;36mrun\u001b[0;34m(self, time_in_seconds, progress_bar)\u001b[0m\n\u001b[1;32m    319\u001b[0m             logger.info(\"Running %s for %f seconds, or %d steps\",\n\u001b[1;32m    320\u001b[0m                         self.model.label, time_in_seconds, steps)\n\u001b[0;32m--> 321\u001b[0;31m             \u001b[0mself\u001b[0m\u001b[0;34m.\u001b[0m\u001b[0mrun_steps\u001b[0m\u001b[0;34m(\u001b[0m\u001b[0msteps\u001b[0m\u001b[0;34m,\u001b[0m \u001b[0mprogress_bar\u001b[0m\u001b[0;34m=\u001b[0m\u001b[0mprogress_bar\u001b[0m\u001b[0;34m)\u001b[0m\u001b[0;34m\u001b[0m\u001b[0;34m\u001b[0m\u001b[0m\n\u001b[0m\u001b[1;32m    322\u001b[0m \u001b[0;34m\u001b[0m\u001b[0m\n\u001b[1;32m    323\u001b[0m     \u001b[0;32mdef\u001b[0m \u001b[0mrun_steps\u001b[0m\u001b[0;34m(\u001b[0m\u001b[0mself\u001b[0m\u001b[0;34m,\u001b[0m \u001b[0msteps\u001b[0m\u001b[0;34m,\u001b[0m \u001b[0mprogress_bar\u001b[0m\u001b[0;34m=\u001b[0m\u001b[0;32mNone\u001b[0m\u001b[0;34m)\u001b[0m\u001b[0;34m:\u001b[0m\u001b[0;34m\u001b[0m\u001b[0;34m\u001b[0m\u001b[0m\n",
      "\u001b[0;32m~/anaconda/envs/tensorflow3/lib/python3.6/site-packages/nengo/simulator.py\u001b[0m in \u001b[0;36mrun_steps\u001b[0;34m(self, steps, progress_bar)\u001b[0m\n\u001b[1;32m    343\u001b[0m                 \"Simulating\", \"Simulation\", steps)) as pt:\n\u001b[1;32m    344\u001b[0m             \u001b[0;32mfor\u001b[0m \u001b[0mi\u001b[0m \u001b[0;32min\u001b[0m \u001b[0mrange\u001b[0m\u001b[0;34m(\u001b[0m\u001b[0msteps\u001b[0m\u001b[0;34m)\u001b[0m\u001b[0;34m:\u001b[0m\u001b[0;34m\u001b[0m\u001b[0;34m\u001b[0m\u001b[0m\n\u001b[0;32m--> 345\u001b[0;31m                 \u001b[0mself\u001b[0m\u001b[0;34m.\u001b[0m\u001b[0mstep\u001b[0m\u001b[0;34m(\u001b[0m\u001b[0;34m)\u001b[0m\u001b[0;34m\u001b[0m\u001b[0;34m\u001b[0m\u001b[0m\n\u001b[0m\u001b[1;32m    346\u001b[0m                 \u001b[0mpt\u001b[0m\u001b[0;34m.\u001b[0m\u001b[0mtotal_progress\u001b[0m\u001b[0;34m.\u001b[0m\u001b[0mstep\u001b[0m\u001b[0;34m(\u001b[0m\u001b[0;34m)\u001b[0m\u001b[0;34m\u001b[0m\u001b[0;34m\u001b[0m\u001b[0m\n\u001b[1;32m    347\u001b[0m \u001b[0;34m\u001b[0m\u001b[0m\n",
      "\u001b[0;32m~/anaconda/envs/tensorflow3/lib/python3.6/site-packages/nengo/simulator.py\u001b[0m in \u001b[0;36mstep\u001b[0;34m(self)\u001b[0m\n\u001b[1;32m    354\u001b[0m         \u001b[0;32mtry\u001b[0m\u001b[0;34m:\u001b[0m\u001b[0;34m\u001b[0m\u001b[0;34m\u001b[0m\u001b[0m\n\u001b[1;32m    355\u001b[0m             \u001b[0;32mfor\u001b[0m \u001b[0mstep_fn\u001b[0m \u001b[0;32min\u001b[0m \u001b[0mself\u001b[0m\u001b[0;34m.\u001b[0m\u001b[0m_steps\u001b[0m\u001b[0;34m:\u001b[0m\u001b[0;34m\u001b[0m\u001b[0;34m\u001b[0m\u001b[0m\n\u001b[0;32m--> 356\u001b[0;31m                 \u001b[0mstep_fn\u001b[0m\u001b[0;34m(\u001b[0m\u001b[0;34m)\u001b[0m\u001b[0;34m\u001b[0m\u001b[0;34m\u001b[0m\u001b[0m\n\u001b[0m\u001b[1;32m    357\u001b[0m         \u001b[0;32mfinally\u001b[0m\u001b[0;34m:\u001b[0m\u001b[0;34m\u001b[0m\u001b[0;34m\u001b[0m\u001b[0m\n\u001b[1;32m    358\u001b[0m             \u001b[0mnp\u001b[0m\u001b[0;34m.\u001b[0m\u001b[0mseterr\u001b[0m\u001b[0;34m(\u001b[0m\u001b[0;34m**\u001b[0m\u001b[0mold_err\u001b[0m\u001b[0;34m)\u001b[0m\u001b[0;34m\u001b[0m\u001b[0;34m\u001b[0m\u001b[0m\n",
      "\u001b[0;32m~/anaconda/envs/tensorflow3/lib/python3.6/site-packages/nengo/builder/operator.py\u001b[0m in \u001b[0;36mstep_reset\u001b[0;34m()\u001b[0m\n\u001b[1;32m    295\u001b[0m \u001b[0;34m\u001b[0m\u001b[0m\n\u001b[1;32m    296\u001b[0m         \u001b[0;32mdef\u001b[0m \u001b[0mstep_reset\u001b[0m\u001b[0;34m(\u001b[0m\u001b[0;34m)\u001b[0m\u001b[0;34m:\u001b[0m\u001b[0;34m\u001b[0m\u001b[0;34m\u001b[0m\u001b[0m\n\u001b[0;32m--> 297\u001b[0;31m             \u001b[0mtarget\u001b[0m\u001b[0;34m[\u001b[0m\u001b[0;34m...\u001b[0m\u001b[0;34m]\u001b[0m \u001b[0;34m=\u001b[0m \u001b[0mvalue\u001b[0m\u001b[0;34m\u001b[0m\u001b[0;34m\u001b[0m\u001b[0m\n\u001b[0m\u001b[1;32m    298\u001b[0m         \u001b[0;32mreturn\u001b[0m \u001b[0mstep_reset\u001b[0m\u001b[0;34m\u001b[0m\u001b[0;34m\u001b[0m\u001b[0m\n\u001b[1;32m    299\u001b[0m \u001b[0;34m\u001b[0m\u001b[0m\n",
      "\u001b[0;31mKeyboardInterrupt\u001b[0m: "
     ]
    }
   ],
   "source": [
    "# master class that performs environment interaction and learning\n",
    "class Master():\n",
    "    def __init__(self,\n",
    "                 env,\n",
    "                 n_actor,\n",
    "                 n_critic,\n",
    "                 n_place,\n",
    "                 dt,\n",
    "                 V_0,\n",
    "                 tau_r,\n",
    "                 stepSize=1,\n",
    "                 actor_lr=0.05,\n",
    "                 critic_lr=0.2):\n",
    "        \n",
    "        # gym\n",
    "        self.env = env\n",
    "        if type(env.action_space) == gym.spaces.discrete.Discrete:\n",
    "            self.action_dim = env.action_space.n\n",
    "            self.discrete_actions = True\n",
    "        else:\n",
    "            self.action_dim = env.action_space.shape[0]\n",
    "            self.discrete_actions = False\n",
    "            \n",
    "        self.state_dim = env.observation_space.shape[0]\n",
    "        self.stepsize = stepSize\n",
    "        self.dt = dt\n",
    "        self.state = env.reset()\n",
    "        self.reward = 0\n",
    "        self.done = False\n",
    "        self.reward_history = []\n",
    "        self.totalReward = 0\n",
    "\n",
    "        self.V_0 = V_0\n",
    "        self.tau_r = tau_r\n",
    "        self.actor_lr = actor_lr\n",
    "        self.critic_lr = critic_lr\n",
    "        self.place_actor_weights = 2*np.random.randn(n_actor, n_place)/n_actor\n",
    "        self.place_critic_weights = 2*np.random.randn(n_critic, n_place)/n_critic\n",
    "#         self.place_actor_weights = np.random.uniform(n_actor, n_place)\n",
    "#         self.place_critic_weights = np.random.uniform(n_critic, n_place)\n",
    "#         self.td_error_history = []\n",
    "    \n",
    "    def sensor(self, t):\n",
    "        return self.state\n",
    "    \n",
    "    def get_reward(self, t):\n",
    "        return self.reward\n",
    "    \n",
    "    def step(self,t,x):\n",
    "        if int(t / self.dt) % self.stepsize != 0:\n",
    "            return\n",
    "        \n",
    "        if self.discrete_actions:\n",
    "            action = np.random.choice(self.action_dim, p=softmax(x))\n",
    "#             action = np.argmax(x)\n",
    "        else:\n",
    "            action = x\n",
    "#         self.env.render()\n",
    "#         print(f'STEP... x: {x}, action: {action}')\n",
    "        self.state, self.reward, self.done, _ = self.env.step(action)\n",
    "        self.totalReward += self.reward\n",
    "        if self.done:\n",
    "#             print('done')\n",
    "            self.reward = -2\n",
    "            self.totalReward += self.reward\n",
    "            self.reward_history.append(self.totalReward)\n",
    "            self.state = self.env.reset()\n",
    "            self.totalReward = 0\n",
    "\n",
    "#     def calc_td_error(self, t, x):\n",
    "#         td_error = np.sum(x) - self.V_0/self.tau_r + self.reward\n",
    "#         print('td_error:', td_error, np.sum(x), self.reward)\n",
    "#         self.td_error_history.append(td_error)\n",
    "#         return td_error\n",
    "\n",
    "    def outer(self, t, x):\n",
    "        X_j_conv_eps = x[:n_place]\n",
    "        Y = x[n_place:]\n",
    "        return np.outer(Y, X_j_conv_eps).flatten()\n",
    "    \n",
    "    def actor(self, t, x):\n",
    "        dVdw = x[:n_place * n_actor].reshape(n_actor, n_place)\n",
    "        place_spikes = x[n_place * n_actor:-1]\n",
    "        td_error = x[-1]#self.td_error_history[-1]\n",
    "#         print(f'ACTOR... mean(dVdw): {np.mean(dVdw)}, sum(dVdw){np.sum(dVdw)}, td: {td_error}')\n",
    "        self.place_actor_weights += self.actor_lr * td_error * dVdw\n",
    "\n",
    "        return np.dot(self.place_actor_weights, place_spikes)\n",
    "        \n",
    "    def critic(self, t, x):\n",
    "        dVdw = x[:n_place * n_critic].reshape(n_critic, n_place)\n",
    "        place_spikes = x[n_place * n_critic:-1]\n",
    "        td_error = x[-1]#self.td_error_history[-1]\n",
    "#         print(f'CRITIC... mean(dVdw): {np.mean(dVdw)}, sum(dVdw){np.sum(dVdw)}, td: {td_error}')\n",
    "        self.place_critic_weights += self.critic_lr * td_error * dVdw\n",
    "\n",
    "        return np.dot(self.place_critic_weights, place_spikes)\n",
    "\n",
    "V_0 = 0\n",
    "tau_r = 1 # reward time constant\n",
    "v_k = 50e-3\n",
    "tau_k = 200e-3\n",
    "eps_0 = 20e-3\n",
    "tau_m = 20e-3\n",
    "tau_s = 5e-3\n",
    "dt = 1e-3\n",
    "n_actor = 100\n",
    "n_critic = 100\n",
    "n_place = 1000\n",
    "place_radius = 5\n",
    "actor_radius = 2\n",
    "critic_radius = 10\n",
    "stepSize = 5\n",
    "actor_lr = 0.05\n",
    "critic_lr = 0.2\n",
    "\n",
    "# env = gym.make('CartPole-v0')\n",
    "# env = gym.make('MountainCarContinuous-v0')\n",
    "env = gym.make('Pendulum-v0')\n",
    "# env = gym.make('Acrobot-v1')\n",
    "master = Master(\n",
    "    env=env,\n",
    "    n_actor=n_actor,\n",
    "    n_critic=n_critic,\n",
    "    n_place=n_place,\n",
    "    dt=dt,\n",
    "    V_0=V_0,\n",
    "    tau_r=tau_r,\n",
    "    stepSize=stepSize,\n",
    "    actor_lr=actor_lr,\n",
    "    critic_lr=critic_lr\n",
    ")\n",
    "model = nengo.Network()\n",
    "\n",
    "with model:\n",
    "    state_node = nengo.Node(output=master.sensor)\n",
    "    reward_node = nengo.Node(output=master.get_reward)\n",
    "    place = nengo.Ensemble(n_neurons=n_place,\n",
    "                           dimensions=master.state_dim,\n",
    "                           radius=place_radius)\n",
    "    nengo.Connection(state_node, place)\n",
    "    \n",
    "    \n",
    "    actor = nengo.Ensemble(n_neurons=n_actor,\n",
    "                           dimensions=master.action_dim,\n",
    "                           radius=actor_radius)\n",
    "    actor_learn_conn = nengo.Connection(place.neurons,\n",
    "                                        actor.neurons,\n",
    "                                        transform=np.random.normal(size=(n_actor, n_place)),\n",
    "#                                         function=lambda x:[0]*master.action_dim,\n",
    "                                        learning_rule_type=nengo.PES(actor_lr))\n",
    "    \n",
    "    step_node = nengo.Node(output=master.step, size_in=master.action_dim)\n",
    "    nengo.Connection(actor, step_node)\n",
    "    \n",
    "    critic = nengo.Ensemble(n_neurons=n_critic,\n",
    "                            dimensions=1,\n",
    "                            radius=critic_radius)\n",
    "    critic_learn_conn = nengo.Connection(place.neurons,\n",
    "                                         critic.neurons,\n",
    "                                         transform=np.random.normal(size=(n_critic, n_place)),\n",
    "#                                          function=lambda x:0,\n",
    "                                         learning_rule_type=nengo.PES(critic_lr))\n",
    "    \n",
    "    nengo.Connection(reward_node,\n",
    "                     critic_learn_conn.learning_rule,\n",
    "                     synapse=None,\n",
    "                     transform=1)\n",
    "    # convolve critic spikes with (K' - K/tau_r)\n",
    "    nengo.Connection(critic,\n",
    "                     critic_learn_conn.learning_rule,\n",
    "                     synapse=tau_k,\n",
    "                     transform=((-tau_r - tau_k)/(tau_r*(tau_k-v_k))))\n",
    "    nengo.Connection(critic,\n",
    "                     critic_learn_conn.learning_rule,\n",
    "                     synapse=v_k,\n",
    "                     transform=((tau_r + v_k)/(tau_r*(tau_k-v_k))))\n",
    "    \n",
    "    nengo.Connection(reward_node, \n",
    "                     actor_learn_conn.learning_rule,\n",
    "#                      function=lambda x:[0]*master.action_dim,\n",
    "                     synapse=None,\n",
    "                     transform=1)\n",
    "    # convolve critic spikes with (K' - K/tau_r)\n",
    "    nengo.Connection(critic,\n",
    "                     actor_learn_conn.learning_rule,\n",
    "                     synapse=tau_k,\n",
    "                     transform=((-tau_r - tau_k)/(tau_r*(tau_k-v_k))))\n",
    "    nengo.Connection(critic,\n",
    "                     actor_learn_conn.learning_rule,\n",
    "                     synapse=v_k,\n",
    "                     transform=((tau_r + v_k)/(tau_r*(tau_k-v_k))))\n",
    "    \n",
    "#     err_probe = nengo.Probe(td_error_node, synapse=None)\n",
    "    actor_probe = nengo.Probe(actor, synapse=None)\n",
    "    critic_probe = nengo.Probe(critic, synapse=None)\n",
    "    place_probe = nengo.Probe(place, synapse=None)\n",
    "    \n",
    "with nengo.Simulator(model) as sim:\n",
    "    sim.run(100)\n",
    "\n",
    "master.env.close()"
   ]
  },
  {
   "cell_type": "code",
   "execution_count": 3,
   "metadata": {
    "scrolled": true
   },
   "outputs": [
    {
     "data": {
      "text/plain": [
       "<matplotlib.legend.Legend at 0x11f6735c0>"
      ]
     },
     "execution_count": 3,
     "metadata": {},
     "output_type": "execute_result"
    },
    {
     "data": {
      "image/png": "[encoded data removed]",
      "text/plain": [
       "<Figure size 432x288 with 1 Axes>"
      ]
     },
     "metadata": {},
     "output_type": "display_data"
    }
   ],
   "source": [
    "# plt.plot(sim.data[err_probe], label='td_error')\n",
    "plt.plot(sim.data[actor_probe], label='actor')\n",
    "plt.plot(sim.data[critic_probe], label='critic')\n",
    "# plt.plot(sim.data[place_probe], label='place')\n",
    "plt.legend()"
   ]
  },
  {
   "cell_type": "code",
   "execution_count": 4,
   "metadata": {
    "scrolled": false
   },
   "outputs": [
    {
     "data": {
      "text/plain": [
       "[<matplotlib.lines.Line2D at 0x11ea38390>]"
      ]
     },
     "execution_count": 4,
     "metadata": {},
     "output_type": "execute_result"
    },
    {
     "data": {
      "image/png": "[encoded data removed]",
      "text/plain": [
       "<Figure size 432x288 with 1 Axes>"
      ]
     },
     "metadata": {},
     "output_type": "display_data"
    }
   ],
   "source": [
    "plt.plot(master.reward_history)"
   ]
  },
  {
   "cell_type": "code",
   "execution_count": 5,
   "metadata": {},
   "outputs": [
    {
     "data": {
      "text/plain": [
       "[<matplotlib.lines.Line2D at 0x11e127ef0>]"
      ]
     },
     "execution_count": 5,
     "metadata": {},
     "output_type": "execute_result"
    },
    {
     "data": {
      "image/png": "[encoded data removed]",
      "text/plain": [
       "<Figure size 432x288 with 1 Axes>"
      ]
     },
     "metadata": {},
     "output_type": "display_data"
    }
   ],
   "source": [
    "plt.plot(np.convolve(master.reward_history, np.ones(10), 'valid'))"
   ]
  },
  {
   "cell_type": "code",
   "execution_count": 168,
   "metadata": {
    "scrolled": true
   },
   "outputs": [
    {
     "data": {
      "application/vdom.v1+json": {
       "attributes": {},
       "tagName": "div"
      },
      "text/html": [
       "\n",
       "                <script>\n",
       "                    if (Jupyter.version.split(\".\")[0] < 5) {\n",
       "                        var pb = document.getElementById(\"84f24a3f-0891-4992-bca9-1a8cb277707c\");\n",
       "                        var text = document.createTextNode(\n",
       "                            \"HMTL progress bar requires Jupyter Notebook >= \" +\n",
       "                            \"5.0 or Jupyter Lab. Alternatively, you can use \" +\n",
       "                            \"TerminalProgressBar().\");\n",
       "                        pb.parentNode.insertBefore(text, pb);\n",
       "                    }\n",
       "                </script>\n",
       "                <div id=\"84f24a3f-0891-4992-bca9-1a8cb277707c\" style=\"\n",
       "                    width: 100%;\n",
       "                    border: 1px solid #cfcfcf;\n",
       "                    border-radius: 4px;\n",
       "                    text-align: center;\n",
       "                    position: relative;\">\n",
       "                  <div class=\"pb-text\" style=\"\n",
       "                      position: absolute;\n",
       "                      width: 100%;\">\n",
       "                    0%\n",
       "                  </div>\n",
       "                  <div class=\"pb-fill\" style=\"\n",
       "                      background-color: #bdd2e6;\n",
       "                      width: 0%;\">\n",
       "                    <style type=\"text/css\" scoped=\"scoped\">\n",
       "                        @keyframes pb-fill-anim {\n",
       "                            0% { background-position: 0 0; }\n",
       "                            100% { background-position: 100px 0; }\n",
       "                        }\n",
       "                    </style>\n",
       "                    &nbsp;\n",
       "                  </div>\n",
       "                </div>"
      ],
      "text/plain": [
       "HtmlProgressBar cannot be displayed. Please use the TerminalProgressBar. It can be enabled with `nengo.rc.set('progress', 'progress_bar', 'nengo.utils.progress.TerminalProgressBar')`."
      ]
     },
     "metadata": {},
     "output_type": "display_data"
    },
    {
     "data": {
      "application/vdom.v1+json": {
       "attributes": {
        "id": "440741a2-b270-4454-b35b-ddfa929787c5",
        "style": {
         "border": "1px solid #cfcfcf",
         "borderRadius": "4px",
         "boxSizing": "border-box",
         "position": "relative",
         "textAlign": "center",
         "width": "100%"
        }
       },
       "children": [
        {
         "attributes": {
          "class": "pb-text",
          "style": {
           "position": "absolute",
           "width": "100%"
          }
         },
         "children": [
          "Build finished in 0:00:01."
         ],
         "tagName": "div"
        },
        {
         "attributes": {
          "class": "pb-fill",
          "style": {
           "animation": "none",
           "backgroundColor": "#bdd2e6",
           "backgroundImage": "none",
           "backgroundSize": "100px 100%",
           "width": "100%"
          }
         },
         "children": [
          {
           "attributes": {
            "scoped": "scoped",
            "type": "text/css"
           },
           "children": [
            "\n                        @keyframes pb-fill-anim {\n                            0% { background-position: 0 0; }\n                            100% { background-position: 100px 0; }\n                        }}"
           ],
           "tagName": "style"
          },
          " "
         ],
         "tagName": "div"
        }
       ],
       "tagName": "div"
      },
      "text/html": [
       "<script>\n",
       "              (function () {\n",
       "                  var root = document.getElementById('84f24a3f-0891-4992-bca9-1a8cb277707c');\n",
       "                  var text = root.getElementsByClassName('pb-text')[0];\n",
       "                  var fill = root.getElementsByClassName('pb-fill')[0];\n",
       "\n",
       "                  text.innerHTML = 'Build finished in 0:00:01.';\n",
       "                  \n",
       "            fill.style.width = '100%';\n",
       "            fill.style.animation = 'pb-fill-anim 2s linear infinite';\n",
       "            fill.style.backgroundSize = '100px 100%';\n",
       "            fill.style.backgroundImage = 'repeating-linear-gradient(' +\n",
       "                '90deg, #bdd2e6, #edf2f8 40%, #bdd2e6 80%, #bdd2e6)';\n",
       "        \n",
       "                  \n",
       "                fill.style.animation = 'none';\n",
       "                fill.style.backgroundImage = 'none';\n",
       "            \n",
       "              })();\n",
       "        </script>"
      ]
     },
     "metadata": {},
     "output_type": "display_data"
    },
    {
     "data": {
      "application/vdom.v1+json": {
       "attributes": {},
       "tagName": "div"
      },
      "text/html": [
       "\n",
       "                <script>\n",
       "                    if (Jupyter.version.split(\".\")[0] < 5) {\n",
       "                        var pb = document.getElementById(\"964d7f50-0e92-4162-93e5-da029522416b\");\n",
       "                        var text = document.createTextNode(\n",
       "                            \"HMTL progress bar requires Jupyter Notebook >= \" +\n",
       "                            \"5.0 or Jupyter Lab. Alternatively, you can use \" +\n",
       "                            \"TerminalProgressBar().\");\n",
       "                        pb.parentNode.insertBefore(text, pb);\n",
       "                    }\n",
       "                </script>\n",
       "                <div id=\"964d7f50-0e92-4162-93e5-da029522416b\" style=\"\n",
       "                    width: 100%;\n",
       "                    border: 1px solid #cfcfcf;\n",
       "                    border-radius: 4px;\n",
       "                    text-align: center;\n",
       "                    position: relative;\">\n",
       "                  <div class=\"pb-text\" style=\"\n",
       "                      position: absolute;\n",
       "                      width: 100%;\">\n",
       "                    0%\n",
       "                  </div>\n",
       "                  <div class=\"pb-fill\" style=\"\n",
       "                      background-color: #bdd2e6;\n",
       "                      width: 0%;\">\n",
       "                    <style type=\"text/css\" scoped=\"scoped\">\n",
       "                        @keyframes pb-fill-anim {\n",
       "                            0% { background-position: 0 0; }\n",
       "                            100% { background-position: 100px 0; }\n",
       "                        }\n",
       "                    </style>\n",
       "                    &nbsp;\n",
       "                  </div>\n",
       "                </div>"
      ],
      "text/plain": [
       "HtmlProgressBar cannot be displayed. Please use the TerminalProgressBar. It can be enabled with `nengo.rc.set('progress', 'progress_bar', 'nengo.utils.progress.TerminalProgressBar')`."
      ]
     },
     "metadata": {},
     "output_type": "display_data"
    },
    {
     "data": {
      "application/vdom.v1+json": {
       "attributes": {
        "id": "f8573436-90c1-4f4a-8fae-c7eb20baa9d5",
        "style": {
         "border": "1px solid #cfcfcf",
         "borderRadius": "4px",
         "boxSizing": "border-box",
         "position": "relative",
         "textAlign": "center",
         "width": "100%"
        }
       },
       "children": [
        {
         "attributes": {
          "class": "pb-text",
          "style": {
           "position": "absolute",
           "width": "100%"
          }
         },
         "children": [
          "Simulation finished in 0:00:01."
         ],
         "tagName": "div"
        },
        {
         "attributes": {
          "class": "pb-fill",
          "style": {
           "animation": "none",
           "backgroundColor": "#bdd2e6",
           "backgroundImage": "none",
           "transition": "width 0.1s linear",
           "width": "100%"
          }
         },
         "children": [
          {
           "attributes": {
            "scoped": "scoped",
            "type": "text/css"
           },
           "children": [
            "\n                        @keyframes pb-fill-anim {\n                            0% { background-position: 0 0; }\n                            100% { background-position: 100px 0; }\n                        }}"
           ],
           "tagName": "style"
          },
          " "
         ],
         "tagName": "div"
        }
       ],
       "tagName": "div"
      },
      "text/html": [
       "<script>\n",
       "              (function () {\n",
       "                  var root = document.getElementById('964d7f50-0e92-4162-93e5-da029522416b');\n",
       "                  var text = root.getElementsByClassName('pb-text')[0];\n",
       "                  var fill = root.getElementsByClassName('pb-fill')[0];\n",
       "\n",
       "                  text.innerHTML = 'Simulation finished in 0:00:01.';\n",
       "                  \n",
       "            if (100.0 > 0.) {\n",
       "                fill.style.transition = 'width 0.1s linear';\n",
       "            } else {\n",
       "                fill.style.transition = 'none';\n",
       "            }\n",
       "\n",
       "            fill.style.width = '100.0%';\n",
       "            fill.style.animation = 'none';\n",
       "            fill.style.backgroundImage = 'none'\n",
       "        \n",
       "                  \n",
       "                fill.style.animation = 'none';\n",
       "                fill.style.backgroundImage = 'none';\n",
       "            \n",
       "              })();\n",
       "        </script>"
      ]
     },
     "metadata": {},
     "output_type": "display_data"
    },
    {
     "data": {
      "text/plain": [
       "[<matplotlib.lines.Line2D at 0x130a9c470>,\n",
       " <matplotlib.lines.Line2D at 0x130a9c5c0>]"
      ]
     },
     "execution_count": 168,
     "metadata": {},
     "output_type": "execute_result"
    },
    {
     "data": {
      "image/png": "[encoded data removed]",
      "text/plain": [
       "<Figure size 432x288 with 1 Axes>"
      ]
     },
     "metadata": {},
     "output_type": "display_data"
    }
   ],
   "source": [
    "xs = []\n",
    "def yolo(t, x):\n",
    "    xs.append(x)\n",
    "\n",
    "# l = lambda t: 1 if t % 0.1 == 0 else 0\n",
    "# l = lambda t: 1 if t % 0.002 == 0 else -1\n",
    "l = lambda t: 2\n",
    "\n",
    "    \n",
    "model = nengo.Network()\n",
    "with model:\n",
    "    nd_input1 = nengo.Node(2 ,size_out=1)\n",
    "    nd_input2 = nengo.Node(1 ,size_out=1)\n",
    "    td_error_node = nengo.Node(output=None, size_in=2)\n",
    "    nengo.Connection(nd_input1, td_error_node[:-1])\n",
    "    nengo.Connection(nd_input2, td_error_node[-1])\n",
    "#     nengo.Connection(critic.neurons, td_error_node, synapse=None)\n",
    "    # convolve critic spikes with (K' - K/tau_r)\n",
    "#     nengo.Connection(nd_input,\n",
    "#                      td_error_node,\n",
    "#                      synapse=tau_k,\n",
    "#                      transform=((-tau_r - tau_k)/(tau_r*(tau_k-v_k))))\n",
    "#     nengo.Connection(nd_input,\n",
    "#                      td_error_node,\n",
    "#                      synapse=v_k,\n",
    "#                      transform=((tau_r + v_k)/(tau_r*(tau_k-v_k))))\n",
    "    p = nengo.Probe(td_error_node)\n",
    "    \n",
    "    \n",
    "with nengo.Simulator(model) as sim:\n",
    "    sim.run(5)\n",
    "    \n",
    "plt.plot(sim.data[p])\n"
   ]
  },
  {
   "cell_type": "code",
   "execution_count": 55,
   "metadata": {},
   "outputs": [
    {
     "data": {
      "text/plain": [
       "[<matplotlib.lines.Line2D at 0x125e263c8>]"
      ]
     },
     "execution_count": 55,
     "metadata": {},
     "output_type": "execute_result"
    },
    {
     "data": {
      "image/png": "[encoded data removed]",
      "text/plain": [
       "<Figure size 432x288 with 1 Axes>"
      ]
     },
     "metadata": {},
     "output_type": "display_data"
    }
   ],
   "source": [
    "def k(t, v_k=50e-3, tau_k=200e-3):\n",
    "    return ( np.exp(-t/tau_k) - np.exp(-t/v_k)) / (tau_k-v_k)\n",
    "ts = np.arange(0,1,1e-3)\n",
    "# plt.plot(ts, k(ts))\n",
    "\n",
    "def k_dot(t, v_k=50e-3, tau_k=200e-3):\n",
    "    return ( -np.exp(-t/tau_k)/tau_k + np.exp(-t/v_k)/v_k) / (tau_k-v_k)\n",
    "# plt.plot(ts, k_dot(ts))\n",
    "\n",
    "def epsp(s, eps_zero=20e-3, tau_m=20e-3, tau_s=5e-3):\n",
    "    return (eps_zero/(tau_m - tau_s))*(np.exp(-s/tau_m)-np.exp(-s/tau_s))*np.heaviside(s, 1)\n",
    "plt.plot(ts, epsp(ts))\n",
    "\n",
    "plt.plot(ts, k_dot(ts) - k(ts)/1)\n"
   ]
  },
  {
   "cell_type": "code",
   "execution_count": null,
   "metadata": {},
   "outputs": [],
   "source": []
  },
  {
   "cell_type": "code",
   "execution_count": 9,
   "metadata": {},
   "outputs": [
    {
     "ename": "ValidationError",
     "evalue": "init: Shape of initial value () does not match expected shape (1, 100)",
     "output_type": "error",
     "traceback": [
      "\u001b[0;31m----------------------------------------------------------------\u001b[0m",
      "\u001b[0;31mValidationError\u001b[0m                Traceback (most recent call last)",
      "\u001b[0;32m<ipython-input-9-848846b09584>\u001b[0m in \u001b[0;36m<module>\u001b[0;34m()\u001b[0m\n\u001b[1;32m    232\u001b[0m         \u001b[0mtd_error_node\u001b[0m\u001b[0;34m,\u001b[0m\u001b[0;34m\u001b[0m\u001b[0;34m\u001b[0m\u001b[0m\n\u001b[1;32m    233\u001b[0m         \u001b[0msynapse\u001b[0m\u001b[0;34m=\u001b[0m\u001b[0mtau_k\u001b[0m\u001b[0;34m,\u001b[0m\u001b[0;34m\u001b[0m\u001b[0;34m\u001b[0m\u001b[0m\n\u001b[0;32m--> 234\u001b[0;31m         transform=((-tau_r - tau_k) / (tau_r * (tau_k - v_k))))\n\u001b[0m\u001b[1;32m    235\u001b[0m     nengo.Connection(\n\u001b[1;32m    236\u001b[0m         \u001b[0mcritic\u001b[0m\u001b[0;34m.\u001b[0m\u001b[0mneurons\u001b[0m\u001b[0;34m,\u001b[0m\u001b[0;34m\u001b[0m\u001b[0;34m\u001b[0m\u001b[0m\n",
      "\u001b[0;32m~/anaconda/envs/tensorflow3/lib/python3.6/site-packages/nengo/base.py\u001b[0m in \u001b[0;36m__call__\u001b[0;34m(cls, *args, **kwargs)\u001b[0m\n\u001b[1;32m     32\u001b[0m         \u001b[0madd_to_container\u001b[0m \u001b[0;34m=\u001b[0m \u001b[0mkwargs\u001b[0m\u001b[0;34m.\u001b[0m\u001b[0mpop\u001b[0m\u001b[0;34m(\u001b[0m\u001b[0;34m\"add_to_container\"\u001b[0m\u001b[0;34m,\u001b[0m \u001b[0;32mTrue\u001b[0m\u001b[0;34m)\u001b[0m\u001b[0;34m\u001b[0m\u001b[0;34m\u001b[0m\u001b[0m\n\u001b[1;32m     33\u001b[0m         \u001b[0;31m# Do the __init__ before adding in case __init__ errors out\u001b[0m\u001b[0;34m\u001b[0m\u001b[0;34m\u001b[0m\u001b[0;34m\u001b[0m\u001b[0m\n\u001b[0;32m---> 34\u001b[0;31m         \u001b[0minst\u001b[0m\u001b[0;34m.\u001b[0m\u001b[0m__init__\u001b[0m\u001b[0;34m(\u001b[0m\u001b[0;34m*\u001b[0m\u001b[0margs\u001b[0m\u001b[0;34m,\u001b[0m \u001b[0;34m**\u001b[0m\u001b[0mkwargs\u001b[0m\u001b[0;34m)\u001b[0m\u001b[0;34m\u001b[0m\u001b[0;34m\u001b[0m\u001b[0m\n\u001b[0m\u001b[1;32m     35\u001b[0m         \u001b[0;32mif\u001b[0m \u001b[0madd_to_container\u001b[0m\u001b[0;34m:\u001b[0m\u001b[0;34m\u001b[0m\u001b[0;34m\u001b[0m\u001b[0m\n\u001b[1;32m     36\u001b[0m             \u001b[0mnengo\u001b[0m\u001b[0;34m.\u001b[0m\u001b[0mNetwork\u001b[0m\u001b[0;34m.\u001b[0m\u001b[0madd\u001b[0m\u001b[0;34m(\u001b[0m\u001b[0minst\u001b[0m\u001b[0;34m)\u001b[0m\u001b[0;34m\u001b[0m\u001b[0;34m\u001b[0m\u001b[0m\n",
      "\u001b[0;32m~/anaconda/envs/tensorflow3/lib/python3.6/site-packages/nengo/connection.py\u001b[0m in \u001b[0;36m__init__\u001b[0;34m(self, pre, post, synapse, function, transform, solver, learning_rule_type, eval_points, scale_eval_points, label, seed)\u001b[0m\n\u001b[1;32m    496\u001b[0m         \u001b[0mself\u001b[0m\u001b[0;34m.\u001b[0m\u001b[0mscale_eval_points\u001b[0m \u001b[0;34m=\u001b[0m \u001b[0mscale_eval_points\u001b[0m\u001b[0;34m\u001b[0m\u001b[0;34m\u001b[0m\u001b[0m\n\u001b[1;32m    497\u001b[0m         \u001b[0mself\u001b[0m\u001b[0;34m.\u001b[0m\u001b[0mfunction_info\u001b[0m \u001b[0;34m=\u001b[0m \u001b[0mfunction\u001b[0m\u001b[0;34m\u001b[0m\u001b[0;34m\u001b[0m\u001b[0m\n\u001b[0;32m--> 498\u001b[0;31m         \u001b[0mself\u001b[0m\u001b[0;34m.\u001b[0m\u001b[0mtransform\u001b[0m \u001b[0;34m=\u001b[0m \u001b[0mtransform\u001b[0m  \u001b[0;31m# Must be set after function\u001b[0m\u001b[0;34m\u001b[0m\u001b[0;34m\u001b[0m\u001b[0m\n\u001b[0m\u001b[1;32m    499\u001b[0m         \u001b[0mself\u001b[0m\u001b[0;34m.\u001b[0m\u001b[0msolver\u001b[0m \u001b[0;34m=\u001b[0m \u001b[0msolver\u001b[0m  \u001b[0;31m# Must be set before learning rule\u001b[0m\u001b[0;34m\u001b[0m\u001b[0;34m\u001b[0m\u001b[0m\n\u001b[1;32m    500\u001b[0m         \u001b[0mself\u001b[0m\u001b[0;34m.\u001b[0m\u001b[0mlearning_rule_type\u001b[0m \u001b[0;34m=\u001b[0m \u001b[0mlearning_rule_type\u001b[0m  \u001b[0;31m# set after transform\u001b[0m\u001b[0;34m\u001b[0m\u001b[0;34m\u001b[0m\u001b[0m\n",
      "\u001b[0;32m~/anaconda/envs/tensorflow3/lib/python3.6/site-packages/nengo/base.py\u001b[0m in \u001b[0;36m__setattr__\u001b[0;34m(self, name, val)\u001b[0m\n\u001b[1;32m    106\u001b[0m                 \u001b[0mSyntaxWarning\u001b[0m\u001b[0;34m,\u001b[0m\u001b[0;34m\u001b[0m\u001b[0;34m\u001b[0m\u001b[0m\n\u001b[1;32m    107\u001b[0m             )\n\u001b[0;32m--> 108\u001b[0;31m         \u001b[0msuper\u001b[0m\u001b[0;34m(\u001b[0m\u001b[0;34m)\u001b[0m\u001b[0;34m.\u001b[0m\u001b[0m__setattr__\u001b[0m\u001b[0;34m(\u001b[0m\u001b[0mname\u001b[0m\u001b[0;34m,\u001b[0m \u001b[0mval\u001b[0m\u001b[0;34m)\u001b[0m\u001b[0;34m\u001b[0m\u001b[0;34m\u001b[0m\u001b[0m\n\u001b[0m\u001b[1;32m    109\u001b[0m \u001b[0;34m\u001b[0m\u001b[0m\n\u001b[1;32m    110\u001b[0m     \u001b[0;32mdef\u001b[0m \u001b[0m__str__\u001b[0m\u001b[0;34m(\u001b[0m\u001b[0mself\u001b[0m\u001b[0;34m)\u001b[0m\u001b[0;34m:\u001b[0m\u001b[0;34m\u001b[0m\u001b[0;34m\u001b[0m\u001b[0m\n",
      "\u001b[0;32m~/anaconda/envs/tensorflow3/lib/python3.6/site-packages/nengo/config.py\u001b[0m in \u001b[0;36m__setattr__\u001b[0;34m(self, name, val)\u001b[0m\n\u001b[1;32m    490\u001b[0m             \u001b[0;32mexcept\u001b[0m \u001b[0mValidationError\u001b[0m\u001b[0;34m:\u001b[0m\u001b[0;34m\u001b[0m\u001b[0;34m\u001b[0m\u001b[0m\n\u001b[1;32m    491\u001b[0m                 \u001b[0mexc_info\u001b[0m \u001b[0;34m=\u001b[0m \u001b[0msys\u001b[0m\u001b[0;34m.\u001b[0m\u001b[0mexc_info\u001b[0m\u001b[0;34m(\u001b[0m\u001b[0;34m)\u001b[0m\u001b[0;34m\u001b[0m\u001b[0;34m\u001b[0m\u001b[0m\n\u001b[0;32m--> 492\u001b[0;31m                 \u001b[0;32mraise\u001b[0m \u001b[0mexc_info\u001b[0m\u001b[0;34m[\u001b[0m\u001b[0;36m1\u001b[0m\u001b[0;34m]\u001b[0m\u001b[0;34m.\u001b[0m\u001b[0mwith_traceback\u001b[0m\u001b[0;34m(\u001b[0m\u001b[0;32mNone\u001b[0m\u001b[0;34m)\u001b[0m\u001b[0;34m\u001b[0m\u001b[0;34m\u001b[0m\u001b[0m\n\u001b[0m\u001b[1;32m    493\u001b[0m         \u001b[0;32melse\u001b[0m\u001b[0;34m:\u001b[0m\u001b[0;34m\u001b[0m\u001b[0;34m\u001b[0m\u001b[0m\n\u001b[1;32m    494\u001b[0m             \u001b[0msuper\u001b[0m\u001b[0;34m(\u001b[0m\u001b[0;34m)\u001b[0m\u001b[0;34m.\u001b[0m\u001b[0m__setattr__\u001b[0m\u001b[0;34m(\u001b[0m\u001b[0mname\u001b[0m\u001b[0;34m,\u001b[0m \u001b[0mval\u001b[0m\u001b[0;34m)\u001b[0m\u001b[0;34m\u001b[0m\u001b[0;34m\u001b[0m\u001b[0m\n",
      "\u001b[0;31mValidationError\u001b[0m: init: Shape of initial value () does not match expected shape (1, 100)"
     ]
    }
   ],
   "source": [
    "# master class that performs environment interaction and learning\n",
    "class Master():\n",
    "\n",
    "    def __init__(self,\n",
    "                 env,\n",
    "                 n_actor,\n",
    "                 n_critic,\n",
    "                 n_place,\n",
    "                 dt,\n",
    "                 V_0,\n",
    "                 tau_r,\n",
    "                 stepSize=1,\n",
    "                 actor_lr=0.05,\n",
    "                 critic_lr=0.2):\n",
    "\n",
    "        # gym\n",
    "        self.env = env\n",
    "        if type(env.action_space) == gym.spaces.discrete.Discrete:\n",
    "            self.action_dim = env.action_space.n\n",
    "            self.discrete_actions = True\n",
    "        else:\n",
    "            self.action_dim = env.action_space.shape[0]\n",
    "            self.discrete_actions = False\n",
    "\n",
    "        self.state_dim = env.observation_space.shape[0]\n",
    "        self.stepsize = stepSize\n",
    "        self.dt = dt\n",
    "        self.state = env.reset()\n",
    "        self.reward = 0\n",
    "        self.done = False\n",
    "        self.reward_history = []\n",
    "        self.totalReward = 0\n",
    "\n",
    "        self.V_0 = V_0\n",
    "        self.tau_r = tau_r\n",
    "        self.actor_lr = actor_lr\n",
    "        self.critic_lr = critic_lr\n",
    "        self.place_actor_weights = 2 * np.random.randn(n_actor,\n",
    "                                                       n_place) / n_actor\n",
    "        self.place_critic_weights = 2 * np.random.randn(n_critic,\n",
    "                                                        n_place) / n_critic\n",
    "#         self.place_actor_weights = np.random.uniform(n_actor, n_place)\n",
    "#         self.place_critic_weights = np.random.uniform(n_critic, n_place)\n",
    "#         self.td_error_history = []\n",
    "\n",
    "    def step(self, t, x):\n",
    "        if int(t / self.dt) % self.stepsize != 0:\n",
    "            return\n",
    "\n",
    "        if self.discrete_actions:\n",
    "#             action = np.argmax(x)\n",
    "            action = np.random.choice(self.action_dim, p=softmax(x))\n",
    "        else:\n",
    "            action = x\n",
    "#         self.env.render()\n",
    "#         print(f'STEP... x: {x}, action: {action}')\n",
    "        self.state, self.reward, self.done, _ = self.env.step(action)\n",
    "        self.totalReward += self.reward\n",
    "        if self.done:\n",
    "            #             print('done')\n",
    "            self.reward = -2\n",
    "            self.totalReward += self.reward\n",
    "            self.reward_history.append(self.totalReward)\n",
    "            self.state = self.env.reset()\n",
    "            self.totalReward = 0\n",
    "\n",
    "\n",
    "#     def calc_td_error(self, t, x):\n",
    "#         td_error = np.sum(x) - self.V_0/self.tau_r + self.reward\n",
    "#         print('td_error:', td_error, np.sum(x), self.reward)\n",
    "#         self.td_error_history.append(td_error)\n",
    "#         return td_error\n",
    "\n",
    "    def outer(self, t, x):\n",
    "        X_j_conv_eps = x[:n_place]\n",
    "        Y = x[n_place:]\n",
    "        return np.outer(Y, X_j_conv_eps).flatten()\n",
    "\n",
    "    def actor(self, t, x):\n",
    "        dVdw = x[:n_place * n_actor].reshape(n_actor, n_place)\n",
    "        place_spikes = x[n_place * n_actor:-1]\n",
    "        td_error = x[-1]  #self.td_error_history[-1]\n",
    "        #         print(f'ACTOR... mean(dVdw): {np.mean(dVdw)}, sum(dVdw){np.sum(dVdw)}, td: {td_error}')\n",
    "        self.place_actor_weights += self.actor_lr * td_error * dVdw\n",
    "\n",
    "        return np.dot(self.place_actor_weights, place_spikes)\n",
    "\n",
    "    def critic(self, t, x):\n",
    "        dVdw = x[:n_place * n_critic].reshape(n_critic, n_place)\n",
    "        place_spikes = x[n_place * n_critic:-1]\n",
    "        td_error = x[-1]  #self.td_error_history[-1]\n",
    "        #         print(f'CRITIC... mean(dVdw): {np.mean(dVdw)}, sum(dVdw){np.sum(dVdw)}, td: {td_error}')\n",
    "        self.place_critic_weights += self.critic_lr * td_error * dVdw\n",
    "\n",
    "        return np.dot(self.place_critic_weights, place_spikes)\n",
    "\n",
    "V_0 = 0\n",
    "tau_r = 1  # reward time constant\n",
    "v_k = 50e-3\n",
    "tau_k = 200e-3\n",
    "eps_0 = 20e-3\n",
    "tau_m = 20e-3\n",
    "tau_s = 5e-3\n",
    "dt = 1e-3\n",
    "n_actor = 100\n",
    "n_critic = 100\n",
    "n_place = 100\n",
    "place_radius = 10\n",
    "actor_radius = 2\n",
    "critic_radius = 10\n",
    "stepSize = 10\n",
    "actor_lr = 0.05\n",
    "critic_lr = 0.2\n",
    "\n",
    "env = gym.make('CartPole-v0')\n",
    "# env = gym.make('MountainCarContinuous-v0')\n",
    "# env = gym.make('Pendulum-v0')\n",
    "# env = gym.make('Acrobot-v1')\n",
    "master = Master(\n",
    "    env=env,\n",
    "    n_actor=n_actor,\n",
    "    n_critic=n_critic,\n",
    "    n_place=n_place,\n",
    "    dt=dt,\n",
    "    V_0=V_0,\n",
    "    tau_r=tau_r,\n",
    "    stepSize=stepSize,\n",
    "    actor_lr=actor_lr,\n",
    "    critic_lr=critic_lr)\n",
    "model = nengo.Network()\n",
    "\n",
    "with model:\n",
    "    state_node = nengo.Node(output=master.state)\n",
    "    reward_node = nengo.Node(output=master.reward)\n",
    "    place = nengo.Ensemble(\n",
    "        n_neurons=n_place, dimensions=master.state_dim, radius=place_radius)\n",
    "    nengo.Connection(state_node, place)\n",
    "\n",
    "    #####################################################\n",
    "\n",
    "    actor = nengo.Ensemble(\n",
    "        n_neurons=n_actor, dimensions=master.action_dim, radius=actor_radius)\n",
    "\n",
    "    actor_outer = nengo.Node(\n",
    "        master.outer, size_in=n_place + n_actor, size_out=n_place * n_actor)\n",
    "    # convolve place spikes with epsilon\n",
    "    nengo.Connection(\n",
    "        place.neurons,\n",
    "        actor_outer[:n_place],\n",
    "        synapse=tau_m,\n",
    "        transform=((eps_0 * tau_m) / (tau_m - tau_s)))\n",
    "    nengo.Connection(\n",
    "        place.neurons,\n",
    "        actor_outer[:n_place],\n",
    "        synapse=tau_s,\n",
    "        transform=-((eps_0 * tau_s) / (tau_m - tau_s)))\n",
    "    # Pass raw actor spikes into actor_outer\n",
    "    nengo.Connection(actor.neurons, actor_outer[n_place:], synapse=None)\n",
    "\n",
    "    actor_learn = nengo.Node(\n",
    "        master.actor, size_in=n_place * n_actor + n_place + 1, size_out=n_actor)\n",
    "    # convolve actor_outer output with k / tau_r\n",
    "    nengo.Connection(\n",
    "        actor_outer,\n",
    "        actor_learn[:n_place * n_actor],\n",
    "        synapse=tau_k,\n",
    "        transform=tau_k / ((tau_k - v_k) * tau_r))\n",
    "    nengo.Connection(\n",
    "        actor_outer,\n",
    "        actor_learn[:n_place * n_actor],\n",
    "        synapse=v_k,\n",
    "        transform=(-v_k) / ((tau_k - v_k) * tau_r))\n",
    "    # Pass raw place spikes into actor_learn\n",
    "    nengo.Connection(\n",
    "        place.neurons, actor_learn[n_place * n_actor:-1], synapse=None)\n",
    "\n",
    "    # connect actor_learn to actor neurons\n",
    "    nengo.Connection(actor_learn, actor.neurons, synapse=None)\n",
    "\n",
    "    step_node = nengo.Node(output=master.step, size_in=master.action_dim)\n",
    "    nengo.Connection(actor, step_node)\n",
    "\n",
    "    #####################################################\n",
    "\n",
    "    critic = nengo.Ensemble(\n",
    "        n_neurons=n_critic, dimensions=1, radius=critic_radius)\n",
    "    critic_outer = nengo.Node(\n",
    "        master.outer, size_in=n_place + n_critic, size_out=n_place * n_critic)\n",
    "    # convolve place spikes with epsilon\n",
    "    nengo.Connection(\n",
    "        place.neurons,\n",
    "        critic_outer[:n_place],\n",
    "        synapse=tau_m,\n",
    "        transform=((eps_0 * tau_m) / (tau_m - tau_s)))\n",
    "    nengo.Connection(\n",
    "        place.neurons,\n",
    "        critic_outer[:n_place],\n",
    "        synapse=tau_s,\n",
    "        transform=-((eps_0 * tau_s) / (tau_m - tau_s)))\n",
    "    # Pass raw critic spikes into critic_outer\n",
    "    nengo.Connection(critic.neurons, critic_outer[n_place:], synapse=None)\n",
    "\n",
    "    critic_learn = nengo.Node(\n",
    "        master.critic,\n",
    "        size_in=n_place * n_critic + n_place + 1,\n",
    "        size_out=n_critic)\n",
    "    # convolve critic_outer output with k / tau_r\n",
    "    nengo.Connection(\n",
    "        critic_outer,\n",
    "        critic_learn[:n_place * n_critic],\n",
    "        synapse=tau_k,\n",
    "        transform=tau_k / ((tau_k - v_k) * tau_r))\n",
    "    nengo.Connection(\n",
    "        critic_outer,\n",
    "        critic_learn[:n_place * n_critic],\n",
    "        synapse=v_k,\n",
    "        transform=(-v_k) / ((tau_k - v_k) * tau_r))\n",
    "    # Pass raw place spikes into critic_learn\n",
    "    nengo.Connection(\n",
    "        place.neurons, critic_learn[n_place * n_critic:-1], synapse=None)\n",
    "\n",
    "    # connect critic_learn to critic neurons\n",
    "    nengo.Connection(critic_learn, critic.neurons, synapse=None)\n",
    "\n",
    "    #####################################################\n",
    "\n",
    "    td_error_node = nengo.Node(output=None, size_in=1)\n",
    "    nengo.Connection(reward_node, td_error_node)\n",
    "    # convolve critic spikes with (K' - K/tau_r)\n",
    "    nengo.Connection(\n",
    "        critic.neurons,\n",
    "        td_error_node,\n",
    "        synapse=tau_k,\n",
    "        transform=((-tau_r - tau_k) / (tau_r * (tau_k - v_k))))\n",
    "    nengo.Connection(\n",
    "        critic.neurons,\n",
    "        td_error_node,\n",
    "        synapse=v_k,\n",
    "        transform=((tau_r + v_k) / (tau_r * (tau_k - v_k))))\n",
    "    # pass td_error to learn nodes\n",
    "    nengo.Connection(td_error_node, actor_learn[-1], synapse=None)\n",
    "    nengo.Connection(td_error_node, critic_learn[-1], synapse=None)\n",
    "\n",
    "    err_probe = nengo.Probe(td_error_node, synapse=None)\n",
    "    actor_probe = nengo.Probe(actor, synapse=None)\n",
    "    critic_probe = nengo.Probe(critic, synapse=None)\n",
    "    place_probe = nengo.Probe(place, synapse=None)\n",
    "\n",
    "with nengo.Simulator(model) as sim:\n",
    "    sim.run(10)\n",
    "\n",
    "master.env.close()"
   ]
  }
 ],
 "metadata": {
  "kernelspec": {
   "display_name": "Python 3",
   "language": "python",
   "name": "python3"
  },
  "language_info": {
   "codemirror_mode": {
    "name": "ipython",
    "version": 3
   },
   "file_extension": ".py",
   "mimetype": "text/x-python",
   "name": "python",
   "nbconvert_exporter": "python",
   "pygments_lexer": "ipython3",
   "version": "3.6.9"
  }
 },
 "nbformat": 4,
 "nbformat_minor": 4
}
