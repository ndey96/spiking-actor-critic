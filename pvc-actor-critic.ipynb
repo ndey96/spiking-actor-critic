{
 "cells": [
  {
   "cell_type": "code",
   "execution_count": 2,
   "metadata": {},
   "outputs": [],
   "source": [
    "import nengo\n",
    "# import nengo_ocl\n",
    "import numpy as np\n",
    "import matplotlib.pyplot as plt\n",
    "import gym\n",
    "from nengo.utils.matplotlib import rasterplot"
   ]
  },
  {
   "cell_type": "code",
   "execution_count": null,
   "metadata": {},
   "outputs": [
    {
     "name": "stderr",
     "output_type": "stream",
     "text": [
      "/Users/nolandey/anaconda/envs/tensorflow3/lib/python3.6/site-packages/gym/logger.py:30: UserWarning: \u001b[33mWARN: Box bound precision lowered by casting to float32\u001b[0m\n",
      "  warnings.warn(colorize('%s: %s'%('WARN', msg % args), 'yellow'))\n"
     ]
    },
    {
     "data": {
      "application/vdom.v1+json": {
       "attributes": {},
       "tagName": "div"
      },
      "text/html": [
       "\n",
       "                <script>\n",
       "                    if (Jupyter.version.split(\".\")[0] < 5) {\n",
       "                        var pb = document.getElementById(\"55bf88bf-23bc-4746-985f-8c7c54973ba8\");\n",
       "                        var text = document.createTextNode(\n",
       "                            \"HMTL progress bar requires Jupyter Notebook >= \" +\n",
       "                            \"5.0 or Jupyter Lab. Alternatively, you can use \" +\n",
       "                            \"TerminalProgressBar().\");\n",
       "                        pb.parentNode.insertBefore(text, pb);\n",
       "                    }\n",
       "                </script>\n",
       "                <div id=\"55bf88bf-23bc-4746-985f-8c7c54973ba8\" style=\"\n",
       "                    width: 100%;\n",
       "                    border: 1px solid #cfcfcf;\n",
       "                    border-radius: 4px;\n",
       "                    text-align: center;\n",
       "                    position: relative;\">\n",
       "                  <div class=\"pb-text\" style=\"\n",
       "                      position: absolute;\n",
       "                      width: 100%;\">\n",
       "                    0%\n",
       "                  </div>\n",
       "                  <div class=\"pb-fill\" style=\"\n",
       "                      background-color: #bdd2e6;\n",
       "                      width: 0%;\">\n",
       "                    <style type=\"text/css\" scoped=\"scoped\">\n",
       "                        @keyframes pb-fill-anim {\n",
       "                            0% { background-position: 0 0; }\n",
       "                            100% { background-position: 100px 0; }\n",
       "                        }\n",
       "                    </style>\n",
       "                    &nbsp;\n",
       "                  </div>\n",
       "                </div>"
      ],
      "text/plain": [
       "HtmlProgressBar cannot be displayed. Please use the TerminalProgressBar. It can be enabled with `nengo.rc.set('progress', 'progress_bar', 'nengo.utils.progress.TerminalProgressBar')`."
      ]
     },
     "metadata": {},
     "output_type": "display_data"
    },
    {
     "data": {
      "application/vdom.v1+json": {
       "attributes": {
        "id": "df0c6cd0-fabf-4f64-9932-b349b3e6d764",
        "style": {
         "border": "1px solid #cfcfcf",
         "borderRadius": "4px",
         "boxSizing": "border-box",
         "position": "relative",
         "textAlign": "center",
         "width": "100%"
        }
       },
       "children": [
        {
         "attributes": {
          "class": "pb-text",
          "style": {
           "position": "absolute",
           "width": "100%"
          }
         },
         "children": [
          "Build finished in 0:00:01."
         ],
         "tagName": "div"
        },
        {
         "attributes": {
          "class": "pb-fill",
          "style": {
           "animation": "none",
           "backgroundColor": "#bdd2e6",
           "backgroundImage": "none",
           "backgroundSize": "100px 100%",
           "width": "100%"
          }
         },
         "children": [
          {
           "attributes": {
            "scoped": "scoped",
            "type": "text/css"
           },
           "children": [
            "\n                        @keyframes pb-fill-anim {\n                            0% { background-position: 0 0; }\n                            100% { background-position: 100px 0; }\n                        }}"
           ],
           "tagName": "style"
          },
          " "
         ],
         "tagName": "div"
        }
       ],
       "tagName": "div"
      },
      "text/html": [
       "<script>\n",
       "              (function () {\n",
       "                  var root = document.getElementById('55bf88bf-23bc-4746-985f-8c7c54973ba8');\n",
       "                  var text = root.getElementsByClassName('pb-text')[0];\n",
       "                  var fill = root.getElementsByClassName('pb-fill')[0];\n",
       "\n",
       "                  text.innerHTML = 'Build finished in 0:00:01.';\n",
       "                  \n",
       "            fill.style.width = '100%';\n",
       "            fill.style.animation = 'pb-fill-anim 2s linear infinite';\n",
       "            fill.style.backgroundSize = '100px 100%';\n",
       "            fill.style.backgroundImage = 'repeating-linear-gradient(' +\n",
       "                '90deg, #bdd2e6, #edf2f8 40%, #bdd2e6 80%, #bdd2e6)';\n",
       "        \n",
       "                  \n",
       "                fill.style.animation = 'none';\n",
       "                fill.style.backgroundImage = 'none';\n",
       "            \n",
       "              })();\n",
       "        </script>"
      ]
     },
     "metadata": {},
     "output_type": "display_data"
    },
    {
     "data": {
      "application/vdom.v1+json": {
       "attributes": {},
       "tagName": "div"
      },
      "text/html": [
       "\n",
       "                <script>\n",
       "                    if (Jupyter.version.split(\".\")[0] < 5) {\n",
       "                        var pb = document.getElementById(\"499b3ce5-dc14-4ed0-8a89-26d8feab3146\");\n",
       "                        var text = document.createTextNode(\n",
       "                            \"HMTL progress bar requires Jupyter Notebook >= \" +\n",
       "                            \"5.0 or Jupyter Lab. Alternatively, you can use \" +\n",
       "                            \"TerminalProgressBar().\");\n",
       "                        pb.parentNode.insertBefore(text, pb);\n",
       "                    }\n",
       "                </script>\n",
       "                <div id=\"499b3ce5-dc14-4ed0-8a89-26d8feab3146\" style=\"\n",
       "                    width: 100%;\n",
       "                    border: 1px solid #cfcfcf;\n",
       "                    border-radius: 4px;\n",
       "                    text-align: center;\n",
       "                    position: relative;\">\n",
       "                  <div class=\"pb-text\" style=\"\n",
       "                      position: absolute;\n",
       "                      width: 100%;\">\n",
       "                    0%\n",
       "                  </div>\n",
       "                  <div class=\"pb-fill\" style=\"\n",
       "                      background-color: #bdd2e6;\n",
       "                      width: 0%;\">\n",
       "                    <style type=\"text/css\" scoped=\"scoped\">\n",
       "                        @keyframes pb-fill-anim {\n",
       "                            0% { background-position: 0 0; }\n",
       "                            100% { background-position: 100px 0; }\n",
       "                        }\n",
       "                    </style>\n",
       "                    &nbsp;\n",
       "                  </div>\n",
       "                </div>"
      ],
      "text/plain": [
       "HtmlProgressBar cannot be displayed. Please use the TerminalProgressBar. It can be enabled with `nengo.rc.set('progress', 'progress_bar', 'nengo.utils.progress.TerminalProgressBar')`."
      ]
     },
     "metadata": {},
     "output_type": "display_data"
    },
    {
     "data": {
      "application/vdom.v1+json": {
       "attributes": {
        "id": "cafcea3b-c7ce-4ff2-8ee8-5f1fbc59f5c7",
        "style": {
         "border": "1px solid #cfcfcf",
         "borderRadius": "4px",
         "boxSizing": "border-box",
         "position": "relative",
         "textAlign": "center",
         "width": "100%"
        }
       },
       "children": [
        {
         "attributes": {
          "class": "pb-text",
          "style": {
           "position": "absolute",
           "width": "100%"
          }
         },
         "children": [
          "Simulating… 3%, ETA: 8:26:07"
         ],
         "tagName": "div"
        },
        {
         "attributes": {
          "class": "pb-fill",
          "style": {
           "animation": "none",
           "backgroundColor": "#bdd2e6",
           "backgroundImage": "none",
           "transition": "width 0.1s linear",
           "width": "3%"
          }
         },
         "children": [
          {
           "attributes": {
            "scoped": "scoped",
            "type": "text/css"
           },
           "children": [
            "\n                        @keyframes pb-fill-anim {\n                            0% { background-position: 0 0; }\n                            100% { background-position: 100px 0; }\n                        }}"
           ],
           "tagName": "style"
          },
          " "
         ],
         "tagName": "div"
        }
       ],
       "tagName": "div"
      },
      "text/html": [
       "<script>\n",
       "              (function () {\n",
       "                  var root = document.getElementById('499b3ce5-dc14-4ed0-8a89-26d8feab3146');\n",
       "                  var text = root.getElementsByClassName('pb-text')[0];\n",
       "                  var fill = root.getElementsByClassName('pb-fill')[0];\n",
       "\n",
       "                  text.innerHTML = 'Simulating&hellip; 3%, ETA: 8:26:07';\n",
       "                  \n",
       "            if (3.3439916666666667 > 0.) {\n",
       "                fill.style.transition = 'width 0.1s linear';\n",
       "            } else {\n",
       "                fill.style.transition = 'none';\n",
       "            }\n",
       "\n",
       "            fill.style.width = '3.3439916666666667%';\n",
       "            fill.style.animation = 'none';\n",
       "            fill.style.backgroundImage = 'none'\n",
       "        \n",
       "                  \n",
       "              })();\n",
       "        </script>"
      ]
     },
     "metadata": {},
     "output_type": "display_data"
    }
   ],
   "source": [
    "np.random.seed(0)\n",
    "\n",
    "# master class that performs environment interaction and learning\n",
    "class Master():\n",
    "    def __init__(self,\n",
    "                 env_name,\n",
    "                 n_actor,\n",
    "                 n_critic,\n",
    "                 n_place,\n",
    "                 dt,\n",
    "                 V_0,\n",
    "                 v,\n",
    "                 tau_r,\n",
    "                 stepSize=1,\n",
    "                 actor_lr=0.05,\n",
    "                 critic_lr=0.2):\n",
    "        \n",
    "        # gym\n",
    "        self.env = gym.make(env_name)\n",
    "        self.env.seed(0)\n",
    "        if type(self.env.action_space) == gym.spaces.discrete.Discrete:\n",
    "            self.action_dim = self.env.action_space.n\n",
    "            self.discrete_actions = True\n",
    "        else:\n",
    "            self.action_dim = self.env.action_space.shape[0]\n",
    "            self.discrete_actions = False\n",
    "            \n",
    "        if env_name == 'Pendulum-v0':\n",
    "            self.F_max = 2\n",
    "            self.actor_directions = 2 * self.F_max * np.arange(n_actor) / n_actor - self.F_max\n",
    "            self.min_reward = -16.2736044\n",
    "        \n",
    "        self.state_dim = self.env.observation_space.shape[0]\n",
    "        self.stepsize = stepSize\n",
    "        self.dt = dt\n",
    "        self.state = self.env.reset()\n",
    "        self.reward = 0\n",
    "        self.done = False\n",
    "        self.reward_history = []\n",
    "        self.totalReward = 0\n",
    "        self.max_steps = 50\n",
    "        self.step_num = 0\n",
    "        \n",
    "        self.V_0 = V_0\n",
    "        self.v = v\n",
    "        self.tau_r = tau_r\n",
    "        self.actor_lr = actor_lr\n",
    "        self.critic_lr = critic_lr\n",
    "        self.place_actor_weights = np.load('cache/place_actor_weights.npy')\n",
    "        self.place_critic_weights = np.load('cache/place_critic_weights.npy')\n",
    "#         self.place_actor_weights = np.random.normal(loc=0.5, scale=0.1, size=(n_actor, n_place))\n",
    "#         self.place_critic_weights = np.random.normal(loc=0.5, scale=0.1, size=(n_critic, n_place))\n",
    "        self.w_min = 0\n",
    "        self.w_max = 3\n",
    "    \n",
    "    def step(self, t, action):\n",
    "        if int(t / self.dt) % self.stepsize != 0:\n",
    "            return\n",
    "        self.step_num += 1\n",
    "#         self.env.render()\n",
    "        self.state, self.reward, self.done, _ = self.env.step(action)\n",
    "        self.totalReward += self.reward\n",
    "        if self.step_num == self.max_steps:\n",
    "#             self.reward = -2 # penalize end of episode\n",
    "            self.totalReward += self.reward\n",
    "            self.reward_history.append(self.totalReward)\n",
    "            self.state = self.env.reset()\n",
    "            self.totalReward = 0\n",
    "            self.step_num = 0\n",
    "\n",
    "    def sensor(self,t):\n",
    "        return self.state\n",
    "            \n",
    "    def calc_td_error(self, t, critic_rates):\n",
    "#         print('td', critic_rates)\n",
    "        return self.v * np.mean(critic_rates*self.dt) - self.V_0/self.tau_r + self.reward\n",
    "\n",
    "    def outer(self, t, x):\n",
    "        X_conv_eps = x[:n_place]* self.dt\n",
    "        Y = x[n_place:]* self.dt\n",
    "#         print('outer', X_conv_eps, Y)\n",
    "        return np.outer(Y, X_conv_eps).flatten()\n",
    "    \n",
    "    def actor(self, t, x):\n",
    "        dVdw = x[:n_place * n_actor].reshape(n_actor, n_place)\n",
    "        place_spikes = x[n_place * n_actor:-1] * self.dt\n",
    "        td_error = x[-1]\n",
    "        self.place_actor_weights += self.actor_lr * td_error * dVdw\n",
    "        self.place_actor_weights = np.clip(self.place_actor_weights, a_min=self.w_min, a_max=self.w_max)\n",
    "#         print('actor', np.dot(self.place_actor_weights, place_spikes))\n",
    "#         print('actor', self.place_actor_weights, place_spikes)\n",
    "        return np.dot(self.place_actor_weights, place_spikes)\n",
    "        \n",
    "    def critic(self, t, x):\n",
    "        dVdw = x[:n_place * n_critic].reshape(n_critic, n_place)\n",
    "        place_spikes = x[n_place * n_critic:-1] * self.dt\n",
    "        td_error = x[-1]\n",
    "        self.place_critic_weights += self.critic_lr * td_error * dVdw\n",
    "        self.place_critic_weights = np.clip(self.place_critic_weights, a_min=self.w_min, a_max=self.w_max)\n",
    "        \n",
    "        return np.dot(self.place_critic_weights, place_spikes)\n",
    "\n",
    "    def select_action(self, t, actor_rates):\n",
    "#         return self.actor_directions[np.argmax(actor_rates)]\n",
    "#         print(actor_rates)\n",
    "        rate_sum = np.sum(actor_rates*self.dt)\n",
    "        if rate_sum == 0: return 0\n",
    "        return np.dot(actor_rates*self.dt, self.actor_directions) / rate_sum\n",
    "    \n",
    "    def calc_value(self, t, critic_rates):\n",
    "        return self.v * np.mean(critic_rates*self.dt) + self.V_0\n",
    "    \n",
    "# v = 2\n",
    "# V_0 = -40\n",
    "V_0 = -16\n",
    "v = 30\n",
    "tau_r = 4 # reward time constant\n",
    "v_k = 50e-3\n",
    "tau_k = 200e-3\n",
    "eps_0 = 20e-3\n",
    "tau_m = 20e-3\n",
    "tau_s = 5e-3\n",
    "tau_gamma = 50e-3\n",
    "v_gamma = 20e-3\n",
    "\n",
    "dt = 1e-3\n",
    "n_actor = 40\n",
    "n_critic = 50\n",
    "n_place = 600\n",
    "place_radius = 5\n",
    "actor_radius = 2\n",
    "critic_radius = 8\n",
    "\n",
    "stepSize = 50\n",
    "actor_lr = 0.05\n",
    "critic_lr = 0.2\n",
    "\n",
    "lateral_sigma = 3\n",
    "lateral_inhibition = 0.1\n",
    "\n",
    "actor_lambda = 0.5\n",
    "w_plus = 30\n",
    "w_minus = -60\n",
    "lateral_stability_const = (n_actor/actor_lambda/2)**2\n",
    "\n",
    "# env_name = 'CartPole-v0'\n",
    "# env_name = 'MountainCarContinuous-v0'\n",
    "env_name = 'Pendulum-v0'\n",
    "master = Master(\n",
    "    env_name=env_name,\n",
    "    n_actor=n_actor,\n",
    "    n_critic=n_critic,\n",
    "    n_place=n_place,\n",
    "    dt=dt,\n",
    "    V_0=V_0,\n",
    "    v=v,\n",
    "    tau_r=tau_r,\n",
    "    stepSize=stepSize,\n",
    "    actor_lr=actor_lr,\n",
    "    critic_lr=critic_lr\n",
    ")\n",
    "model = nengo.Network(seed=0)\n",
    "\n",
    "\n",
    "with model:\n",
    "    state_node = nengo.Node(output=master.sensor)\n",
    "    place = nengo.Ensemble(n_neurons=n_place,\n",
    "                           dimensions=master.state_dim,\n",
    "                           radius=place_radius)\n",
    "    nengo.Connection(state_node, place)\n",
    "    \n",
    "    #####################################################\n",
    "    \n",
    "    actor = nengo.Ensemble(n_neurons=n_actor,\n",
    "                           dimensions=master.action_dim,\n",
    "                           radius=actor_radius)\n",
    "    \n",
    "    \n",
    "#     paper lateral actor connections\n",
    "#     lateral_weight_denom = 2*np.sum([\n",
    "#         np.exp((k/actor_lambda)**2 - lateral_stability_const)\n",
    "#         for k in range(1, int(n_actor/2))\n",
    "#     ])\n",
    "#     print('d',lateral_weight_denom)\n",
    "#     for k in range(n_actor):\n",
    "#         for k_p in range(n_actor):\n",
    "#             if k == k_p: continue\n",
    "#             lateral_weight = w_minus/n_actor \\\n",
    "#                 + w_plus * np.exp(((k - k_p)/actor_lambda)**2 - lateral_stability_const) / lateral_weight_denom\n",
    "#             print('w',lateral_weight)\n",
    "#             if lateral_weight == 0: continue\n",
    "#             nengo.Connection(actor.neurons[k],\n",
    "#                              actor.neurons[k_p],\n",
    "#                              transform=[lateral_weight])\n",
    "    \n",
    "#   gaussian lateral actor connections\n",
    "    lateral_weights = np.zeros((n_actor, n_actor))\n",
    "    for k in range(n_actor):\n",
    "        for k_p in range(n_actor):\n",
    "            if k == k_p: continue # no self connection\n",
    "            lateral_weight = (1+lateral_inhibition)*np.exp(-((k - k_p)/lateral_sigma)**2) - lateral_inhibition\n",
    "            lateral_weights[k,k_p] = lateral_weight\n",
    "    nengo.Connection(actor.neurons, actor.neurons, transform=lateral_weights)\n",
    "    \n",
    "    actor_outer = nengo.Node(master.outer,\n",
    "                            size_in=n_place + n_actor,\n",
    "                            size_out=n_place * n_actor)\n",
    "    # convolve place spikes with epsilon\n",
    "    nengo.Connection(place.neurons,\n",
    "                     actor_outer[:n_place],\n",
    "                     synapse=tau_m,\n",
    "                     transform=((eps_0 * tau_m) / (tau_m - tau_s)))\n",
    "    nengo.Connection(place.neurons,\n",
    "                     actor_outer[:n_place],\n",
    "                     synapse=tau_s,\n",
    "                     transform=-((eps_0 * tau_s) / (tau_m - tau_s)))\n",
    "    # Pass raw actor spikes into actor_outer\n",
    "    nengo.Connection(actor.neurons, actor_outer[n_place:], synapse=None)\n",
    "                     \n",
    "    actor_learn = nengo.Node(master.actor,\n",
    "                            size_in=n_place * n_actor + n_place + 1,\n",
    "                            size_out=n_actor)\n",
    "    # convolve actor_outer output with k / tau_r\n",
    "    nengo.Connection(actor_outer, \n",
    "                     actor_learn[:n_place * n_actor], \n",
    "                     synapse=tau_k,\n",
    "                     transform=tau_k/((tau_k - v_k)*tau_r))\n",
    "    nengo.Connection(actor_outer, \n",
    "                     actor_learn[:n_place * n_actor], \n",
    "                     synapse=v_k,\n",
    "                     transform=(-v_k)/((tau_k - v_k)*tau_r))\n",
    "    # Pass convolved place spikes with epsilon into actor_learn\n",
    "    nengo.Connection(place.neurons,\n",
    "                     actor_learn[n_place * n_actor:-1],\n",
    "                     synapse=tau_m,\n",
    "                     transform=((eps_0 * tau_m) / (tau_m - tau_s)))\n",
    "    nengo.Connection(place.neurons,\n",
    "                     actor_learn[n_place * n_actor:-1],\n",
    "                     synapse=tau_s,\n",
    "                     transform=-((eps_0 * tau_s) / (tau_m - tau_s)))\n",
    "    \n",
    "    # connect actor_learn to actor neurons\n",
    "    nengo.Connection(actor_learn, actor.neurons, synapse=None)\n",
    "\n",
    "    action_selection_node = nengo.Node(output=master.select_action, size_in=n_actor)\n",
    "    nengo.Connection(actor.neurons,\n",
    "                     action_selection_node, \n",
    "                     synapse=tau_gamma,\n",
    "                     transform=tau_gamma/(tau_gamma - v_gamma))\n",
    "    nengo.Connection(actor.neurons,\n",
    "                     action_selection_node,\n",
    "                     synapse=v_gamma,\n",
    "                     transform=(-v_gamma)/(tau_gamma - v_gamma))\n",
    "\n",
    "    step_node = nengo.Node(output=master.step, size_in=master.action_dim)\n",
    "    nengo.Connection(action_selection_node, step_node, synapse=None)\n",
    "\n",
    "    #####################################################\n",
    "    \n",
    "    critic = nengo.Ensemble(n_neurons=n_critic,\n",
    "                            dimensions=1,\n",
    "                            radius=critic_radius)\n",
    "    \n",
    "    critic_outer = nengo.Node(master.outer,\n",
    "                              size_in=n_place + n_critic,\n",
    "                              size_out=n_place * n_critic)\n",
    "    # convolve place spikes with epsilon\n",
    "    nengo.Connection(place.neurons,\n",
    "                     critic_outer[:n_place],\n",
    "                     synapse=tau_m,\n",
    "                     transform=((eps_0 * tau_m) / (tau_m - tau_s)))\n",
    "    nengo.Connection(place.neurons,\n",
    "                     critic_outer[:n_place],\n",
    "                     synapse=tau_s,\n",
    "                     transform=-((eps_0 * tau_s) / (tau_m - tau_s)))\n",
    "    # Pass raw critic spikes into critic_outer\n",
    "    nengo.Connection(critic.neurons, critic_outer[n_place:], synapse=None)\n",
    "                     \n",
    "    critic_learn = nengo.Node(master.critic,\n",
    "                              size_in=n_place * n_critic + n_place + 1,\n",
    "                              size_out=n_critic)\n",
    "    # convolve critic_outer output with k / tau_r\n",
    "    nengo.Connection(critic_outer, \n",
    "                     critic_learn[:n_place * n_critic], \n",
    "                     synapse=tau_k,\n",
    "                     transform=tau_k/((tau_k - v_k)*tau_r))\n",
    "    nengo.Connection(critic_outer, \n",
    "                     critic_learn[:n_place * n_critic], \n",
    "                     synapse=v_k,\n",
    "                     transform=(-v_k)/((tau_k - v_k)*tau_r))\n",
    "    # Pass convolved place spikes with epsilon into critic_learn\n",
    "    nengo.Connection(place.neurons,\n",
    "                     critic_learn[n_place * n_critic:-1],\n",
    "                     synapse=tau_m,\n",
    "                     transform=((eps_0 * tau_m) / (tau_m - tau_s)))\n",
    "    nengo.Connection(place.neurons,\n",
    "                     critic_learn[n_place * n_critic:-1],\n",
    "                     synapse=tau_s,\n",
    "                     transform=-((eps_0 * tau_s) / (tau_m - tau_s)))    \n",
    "                     \n",
    "    # connect critic_learn to critic neurons\n",
    "    nengo.Connection(critic_learn, critic.neurons, synapse=None)    \n",
    "    \n",
    "    td_error_node = nengo.Node(output=master.calc_td_error, size_in=n_critic)\n",
    "    # convolve critic spikes with (K' - K/tau_r)\n",
    "    nengo.Connection(critic.neurons,\n",
    "                     td_error_node,\n",
    "                     synapse=nengo.Lowpass(tau=tau_k),\n",
    "                     transform=((-tau_r - tau_k)/(tau_r*(tau_k-v_k))))\n",
    "    nengo.Connection(critic.neurons,\n",
    "                     td_error_node,\n",
    "                     synapse=nengo.Lowpass(tau=v_k),\n",
    "                     transform=((tau_r + v_k)/(tau_r*(tau_k-v_k))))\n",
    "    \n",
    "    nengo.Connection(td_error_node, actor_learn[-1], synapse=None)\n",
    "    nengo.Connection(td_error_node, critic_learn[-1], synapse=None)\n",
    "    \n",
    "    value_node = nengo.Node(output=master.calc_value, size_in=n_critic)\n",
    "    nengo.Connection(critic.neurons, \n",
    "                     value_node, \n",
    "                     synapse=tau_k,\n",
    "                     transform=tau_k/(tau_k - v_k))\n",
    "    nengo.Connection(critic.neurons, \n",
    "                     value_node, \n",
    "                     synapse=v_k,\n",
    "                     transform=(-v_k)/(tau_k - v_k))\n",
    "    \n",
    "    \n",
    "#     err_probe = nengo.Probe(td_error_node, synapse=None, sample_every=dt*stepSize)\n",
    "    action_probe = nengo.Probe(action_selection_node, synapse=None, sample_every=dt*stepSize)\n",
    "    value_probe = nengo.Probe(value_node, synapse=None, sample_every=dt*stepSize)\n",
    "#     place_probe = nengo.Probe(place, synapse=None, sample_every=dt*stepSize)\n",
    "#     state_probe = nengo.Probe(state_node, synapse=None, sample_every=dt*stepSize)\n",
    "    \n",
    "#     critic_spikes = nengo.Probe(critic.neurons)\n",
    "#     actor_spikes = nengo.Probe(actor.neurons)\n",
    "#     place_spikes = nengo.Probe(place.neurons)\n",
    "    \n",
    "sim = nengo.Simulator(model, dt=dt, optimize=True)\n",
    "sim.run(12000)\n",
    "\n",
    "# master.env.close()"
   ]
  },
  {
   "cell_type": "code",
   "execution_count": 29,
   "metadata": {},
   "outputs": [
    {
     "data": {
      "text/html": [
       "\n",
       "                <div id=\"1367ccfc-77e3-4080-845d-048f1c60c263\" style=\"\n",
       "                    width: 100%;\n",
       "                    border: 1px solid #cfcfcf;\n",
       "                    border-radius: 4px;\n",
       "                    text-align: center;\n",
       "                    position: relative;\">\n",
       "                  <div class=\"pb-text\" style=\"\n",
       "                      position: absolute;\n",
       "                      width: 100%;\">\n",
       "                    0%\n",
       "                  </div>\n",
       "                  <div class=\"pb-fill\" style=\"\n",
       "                      background-color: #bdd2e6;\n",
       "                      width: 0%;\">\n",
       "                    <style type=\"text/css\" scoped=\"scoped\">\n",
       "                        @keyframes pb-fill-anim {\n",
       "                            0% { background-position: 0 0; }\n",
       "                            100% { background-position: 100px 0; }\n",
       "                        }\n",
       "                    </style>\n",
       "                    &nbsp;\n",
       "                  </div>\n",
       "                </div>"
      ],
      "text/plain": [
       "HtmlProgressBar cannot be displayed. Please use the TerminalProgressBar. It can be enabled with `nengo.rc.set('progress', 'progress_bar', 'nengo.utils.progress.TerminalProgressBar')`."
      ]
     },
     "metadata": {},
     "output_type": "display_data"
    },
    {
     "data": {
      "application/javascript": [
       "\n",
       "              (function () {\n",
       "                  var root = document.getElementById('1367ccfc-77e3-4080-845d-048f1c60c263');\n",
       "                  var text = root.getElementsByClassName('pb-text')[0];\n",
       "                  var fill = root.getElementsByClassName('pb-fill')[0];\n",
       "\n",
       "                  text.innerHTML = 'Simulation finished in 0:14:59.';\n",
       "                  \n",
       "            if (100.0 > 0.) {\n",
       "                fill.style.transition = 'width 0.1s linear';\n",
       "            } else {\n",
       "                fill.style.transition = 'none';\n",
       "            }\n",
       "\n",
       "            fill.style.width = '100.0%';\n",
       "            fill.style.animation = 'none';\n",
       "            fill.style.backgroundImage = 'none'\n",
       "        \n",
       "                  \n",
       "                fill.style.animation = 'none';\n",
       "                fill.style.backgroundImage = 'none';\n",
       "            \n",
       "              })();\n",
       "        "
      ],
      "text/plain": [
       "<IPython.core.display.Javascript object>"
      ]
     },
     "metadata": {},
     "output_type": "display_data"
    }
   ],
   "source": [
    "# sim.run(300)"
   ]
  },
  {
   "cell_type": "code",
   "execution_count": 40,
   "metadata": {},
   "outputs": [],
   "source": [
    "# np.save('cache/place_actor_weights', master.place_actor_weights)\n",
    "# np.save('cache/place_critic_weights', master.place_critic_weights)\n",
    "# np.save('cache/reward_history', master.reward_history)\n",
    "# np.save('cache/values', sim.data[value_probe])\n",
    "# np.save('cache/actions', sim.data[action_probe])"
   ]
  },
  {
   "cell_type": "code",
   "execution_count": 6,
   "metadata": {},
   "outputs": [
    {
     "name": "stdout",
     "output_type": "stream",
     "text": [
      "PES_NEF.py                     place_actor_weights.npy\r\n",
      "README.md                      place_critic_weights.npy\r\n",
      "actions.npy                    \u001b[31mpvc-actor-critic.ipynb\u001b[m\u001b[m*\r\n",
      "nef-actor-critic-pes.ipynb     q-learning.ipynb\r\n",
      "nef-actor-critic-td-ltp.ipynb  reward_history.npy\r\n",
      "nengo-tests.ipynb              test.py\r\n",
      "paper.py                       values.npy\r\n"
     ]
    }
   ],
   "source": [
    "ls"
   ]
  },
  {
   "cell_type": "markdown",
   "metadata": {},
   "source": [
    "# Visualization and debugging"
   ]
  },
  {
   "cell_type": "code",
   "execution_count": 7,
   "metadata": {},
   "outputs": [
    {
     "data": {
      "text/plain": [
       "240000"
      ]
     },
     "execution_count": 7,
     "metadata": {},
     "output_type": "execute_result"
    }
   ],
   "source": [
    "len(sim.data[value_probe])"
   ]
  },
  {
   "cell_type": "code",
   "execution_count": 8,
   "metadata": {},
   "outputs": [],
   "source": [
    "# rasterplot(sim.trange()[:10], sim.data[place_spikes][:10])"
   ]
  },
  {
   "cell_type": "code",
   "execution_count": 9,
   "metadata": {},
   "outputs": [],
   "source": [
    "# rasterplot(sim.trange()[:], sim.data[actor_spikes][:])"
   ]
  },
  {
   "cell_type": "code",
   "execution_count": 10,
   "metadata": {
    "scrolled": true
   },
   "outputs": [],
   "source": [
    "# rasterplot(sim.trange()[:10], sim.data[critic_spikes][:10])"
   ]
  },
  {
   "cell_type": "code",
   "execution_count": 11,
   "metadata": {
    "scrolled": false
   },
   "outputs": [],
   "source": [
    "# plt.plot(sim.data[err_probe], label='td_error')\n",
    "# plt.legend()"
   ]
  },
  {
   "cell_type": "code",
   "execution_count": 12,
   "metadata": {
    "scrolled": true
   },
   "outputs": [],
   "source": [
    "# plt.plot(sim.data[value_probe], label='value')\n",
    "# plt.title('Value')\n",
    "# plt.ylabel('V(x(t))')\n",
    "# plt.xlabel('t')\n",
    "# plt.legend()"
   ]
  },
  {
   "cell_type": "code",
   "execution_count": 13,
   "metadata": {
    "scrolled": true
   },
   "outputs": [
    {
     "data": {
      "text/plain": [
       "Text(0,0.5,'a(x(t))')"
      ]
     },
     "execution_count": 13,
     "metadata": {},
     "output_type": "execute_result"
    },
    {
     "data": {
      "image/png": "[encoded data removed]",
      "text/plain": [
       "<Figure size 864x288 with 2 Axes>"
      ]
     },
     "metadata": {},
     "output_type": "display_data"
    }
   ],
   "source": [
    "fig, ax = plt.subplots(1,2, figsize=(12,4))\n",
    "\n",
    "ax[0].plot(sim.data[value_probe], label='value')\n",
    "ax[0].set_title('Value')\n",
    "ax[0].set_ylabel('V(x(t))')\n",
    "ax[0].set_xlabel('t')\n",
    "\n",
    "ax[1].plot(sim.data[action_probe])\n",
    "ax[1].set_title(f'Action')\n",
    "ax[1].set_xlabel('t')\n",
    "ax[1].set_ylabel('a(x(t))')\n",
    "\n",
    "# plt.plot(sim.data[action_probe], label='action')\n",
    "# plt.legend()"
   ]
  },
  {
   "cell_type": "code",
   "execution_count": 14,
   "metadata": {
    "scrolled": true
   },
   "outputs": [],
   "source": [
    "# end = 1000\n",
    "# plt.plot(sim.data[place_probe][:end], label='place')\n",
    "# plt.plot(sim.data[state_probe][:end], label='state')\n",
    "# plt.legend()"
   ]
  },
  {
   "cell_type": "code",
   "execution_count": 15,
   "metadata": {
    "scrolled": false
   },
   "outputs": [],
   "source": [
    "# plt.plot(master.reward_history)\n",
    "# plt.xlabel('Trial')\n",
    "# plt.title('Total reward per trial')"
   ]
  },
  {
   "cell_type": "code",
   "execution_count": 16,
   "metadata": {
    "scrolled": true
   },
   "outputs": [
    {
     "data": {
      "text/plain": [
       "Text(0.5,0,'Trial')"
      ]
     },
     "execution_count": 16,
     "metadata": {},
     "output_type": "execute_result"
    },
    {
     "data": {
      "image/png": "[encoded data removed]",
      "text/plain": [
       "<Figure size 864x288 with 2 Axes>"
      ]
     },
     "metadata": {},
     "output_type": "display_data"
    }
   ],
   "source": [
    "fig, ax = plt.subplots(1,2, figsize=(12,4))\n",
    "\n",
    "ax[0].plot(master.reward_history)\n",
    "ax[0].set_xlabel('Trial')\n",
    "ax[0].set_title('Total reward per trial')\n",
    "\n",
    "h = 100\n",
    "ax[1].plot(np.convolve(master.reward_history, np.ones(h)/h, 'valid'))\n",
    "ax[1].set_title(f'{h}-trial moving average of rewards')\n",
    "ax[1].set_xlabel('Trial')"
   ]
  },
  {
   "cell_type": "code",
   "execution_count": null,
   "metadata": {},
   "outputs": [],
   "source": []
  }
 ],
 "metadata": {
  "kernelspec": {
   "display_name": "Python 3",
   "language": "python",
   "name": "python3"
  },
  "language_info": {
   "codemirror_mode": {
    "name": "ipython",
    "version": 3
   },
   "file_extension": ".py",
   "mimetype": "text/x-python",
   "name": "python",
   "nbconvert_exporter": "python",
   "pygments_lexer": "ipython3",
   "version": "3.6.9"
  }
 },
 "nbformat": 4,
 "nbformat_minor": 4
}
