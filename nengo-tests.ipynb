{
 "cells": [
  {
   "cell_type": "code",
   "execution_count": 14,
   "metadata": {},
   "outputs": [],
   "source": [
    "import nengo\n",
    "import nengo_ocl\n",
    "import numpy as np\n",
    "import matplotlib.pyplot as plt\n",
    "import gym\n",
    "from nengo.utils.matplotlib import rasterplot"
   ]
  },
  {
   "cell_type": "code",
   "execution_count": 64,
   "metadata": {},
   "outputs": [
    {
     "data": {
      "text/plain": [
       "<matplotlib.image.AxesImage at 0x10daccc88>"
      ]
     },
     "execution_count": 64,
     "metadata": {},
     "output_type": "execute_result"
    },
    {
     "data": {
      "image/png": "[encoded data removed]",
      "text/plain": [
       "<Figure size 432x288 with 1 Axes>"
      ]
     },
     "metadata": {},
     "output_type": "display_data"
    }
   ],
   "source": [
    "n_actor=40\n",
    "lateral_sigma = 1\n",
    "lateral_inhibition = 0.1\n",
    "\n",
    "lateral_weights = np.zeros((n_actor, n_actor))\n",
    "for k in range(n_actor):\n",
    "    for k_p in range(n_actor):\n",
    "        if k == k_p: continue # no self connection\n",
    "        lateral_weight = (1+lateral_inhibition)*np.exp(-((k - k_p)/lateral_sigma)**2) - lateral_inhibition\n",
    "        lateral_weights[k,k_p] = lateral_weight\n",
    "        \n",
    "plt.imshow(lateral_weights)"
   ]
  },
  {
   "cell_type": "code",
   "execution_count": 54,
   "metadata": {},
   "outputs": [
    {
     "data": {
      "text/plain": [
       "array([2.51168221, 2.5713115 , 2.42747747])"
      ]
     },
     "execution_count": 54,
     "metadata": {},
     "output_type": "execute_result"
    }
   ],
   "source": [
    "# W = np.arange(15).reshape((3,5))\n",
    "W = np.random.normal(loc=0.5, scale=0.1, size=(3, 5))\n",
    "X = np.array([1,1,1,1,1])\n",
    "\n",
    "np.dot(W,X)"
   ]
  },
  {
   "cell_type": "code",
   "execution_count": 59,
   "metadata": {},
   "outputs": [
    {
     "data": {
      "text/html": [
       "\n",
       "                <div id=\"72f30a13-b37e-479e-af3a-2a33745ccd13\" style=\"\n",
       "                    width: 100%;\n",
       "                    border: 1px solid #cfcfcf;\n",
       "                    border-radius: 4px;\n",
       "                    text-align: center;\n",
       "                    position: relative;\">\n",
       "                  <div class=\"pb-text\" style=\"\n",
       "                      position: absolute;\n",
       "                      width: 100%;\">\n",
       "                    0%\n",
       "                  </div>\n",
       "                  <div class=\"pb-fill\" style=\"\n",
       "                      background-color: #bdd2e6;\n",
       "                      width: 0%;\">\n",
       "                    <style type=\"text/css\" scoped=\"scoped\">\n",
       "                        @keyframes pb-fill-anim {\n",
       "                            0% { background-position: 0 0; }\n",
       "                            100% { background-position: 100px 0; }\n",
       "                        }\n",
       "                    </style>\n",
       "                    &nbsp;\n",
       "                  </div>\n",
       "                </div>"
      ],
      "text/plain": [
       "HtmlProgressBar cannot be displayed. Please use the TerminalProgressBar. It can be enabled with `nengo.rc.set('progress', 'progress_bar', 'nengo.utils.progress.TerminalProgressBar')`."
      ]
     },
     "metadata": {},
     "output_type": "display_data"
    },
    {
     "data": {
      "application/javascript": [
       "\n",
       "              (function () {\n",
       "                  var root = document.getElementById('72f30a13-b37e-479e-af3a-2a33745ccd13');\n",
       "                  var text = root.getElementsByClassName('pb-text')[0];\n",
       "                  var fill = root.getElementsByClassName('pb-fill')[0];\n",
       "\n",
       "                  text.innerHTML = 'Build finished in 0:00:01.';\n",
       "                  \n",
       "            fill.style.width = '100%';\n",
       "            fill.style.animation = 'pb-fill-anim 2s linear infinite';\n",
       "            fill.style.backgroundSize = '100px 100%';\n",
       "            fill.style.backgroundImage = 'repeating-linear-gradient(' +\n",
       "                '90deg, #bdd2e6, #edf2f8 40%, #bdd2e6 80%, #bdd2e6)';\n",
       "        \n",
       "                  \n",
       "                fill.style.animation = 'none';\n",
       "                fill.style.backgroundImage = 'none';\n",
       "            \n",
       "              })();\n",
       "        "
      ],
      "text/plain": [
       "<IPython.core.display.Javascript object>"
      ]
     },
     "metadata": {},
     "output_type": "display_data"
    },
    {
     "data": {
      "text/html": [
       "\n",
       "                <div id=\"1fcdc34a-42bf-4510-871f-49d39e5a47eb\" style=\"\n",
       "                    width: 100%;\n",
       "                    border: 1px solid #cfcfcf;\n",
       "                    border-radius: 4px;\n",
       "                    text-align: center;\n",
       "                    position: relative;\">\n",
       "                  <div class=\"pb-text\" style=\"\n",
       "                      position: absolute;\n",
       "                      width: 100%;\">\n",
       "                    0%\n",
       "                  </div>\n",
       "                  <div class=\"pb-fill\" style=\"\n",
       "                      background-color: #bdd2e6;\n",
       "                      width: 0%;\">\n",
       "                    <style type=\"text/css\" scoped=\"scoped\">\n",
       "                        @keyframes pb-fill-anim {\n",
       "                            0% { background-position: 0 0; }\n",
       "                            100% { background-position: 100px 0; }\n",
       "                        }\n",
       "                    </style>\n",
       "                    &nbsp;\n",
       "                  </div>\n",
       "                </div>"
      ],
      "text/plain": [
       "HtmlProgressBar cannot be displayed. Please use the TerminalProgressBar. It can be enabled with `nengo.rc.set('progress', 'progress_bar', 'nengo.utils.progress.TerminalProgressBar')`."
      ]
     },
     "metadata": {},
     "output_type": "display_data"
    },
    {
     "data": {
      "application/javascript": [
       "\n",
       "              (function () {\n",
       "                  var root = document.getElementById('1fcdc34a-42bf-4510-871f-49d39e5a47eb');\n",
       "                  var text = root.getElementsByClassName('pb-text')[0];\n",
       "                  var fill = root.getElementsByClassName('pb-fill')[0];\n",
       "\n",
       "                  text.innerHTML = 'Simulation finished in 0:00:01.';\n",
       "                  \n",
       "            if (100.0 > 0.) {\n",
       "                fill.style.transition = 'width 0.1s linear';\n",
       "            } else {\n",
       "                fill.style.transition = 'none';\n",
       "            }\n",
       "\n",
       "            fill.style.width = '100.0%';\n",
       "            fill.style.animation = 'none';\n",
       "            fill.style.backgroundImage = 'none'\n",
       "        \n",
       "                  \n",
       "                fill.style.animation = 'none';\n",
       "                fill.style.backgroundImage = 'none';\n",
       "            \n",
       "              })();\n",
       "        "
      ],
      "text/plain": [
       "<IPython.core.display.Javascript object>"
      ]
     },
     "metadata": {},
     "output_type": "display_data"
    }
   ],
   "source": [
    "n_place = 100\n",
    "n_actor = 100\n",
    "tau_r = 10 # reward time constant\n",
    "v_k = 30e-3#50e-3\n",
    "tau_k = 50e-3#200e-3\n",
    "eps_0 = 10e-3#20e-3\n",
    "tau_m = 10e-3#20e-3\n",
    "tau_s = 5e-3\n",
    "tau_gamma = 50e-3\n",
    "v_gamma = 20e-3\n",
    "\n",
    "def get_state(t):\n",
    "    return np.random.uniform(size=(3))\n",
    "\n",
    "def outer(t, x):\n",
    "    X_conv_eps = x[:n_place]\n",
    "    Y = x[n_place:]\n",
    "    return np.outer(Y, X_conv_eps).flatten()\n",
    "    \n",
    "\n",
    "model = nengo.Network(seed=0)\n",
    "with model:\n",
    "    state_node = nengo.Node(get_state)\n",
    "    place = nengo.Ensemble(n_place,3)\n",
    "    actor = nengo.Ensemble(n_actor,1)\n",
    "#     nengo.Connection(state_node, place, solver=nengo.solvers.NoSolver())\n",
    "    nengo.Connection(state_node, place)\n",
    "    \n",
    "    \n",
    "    actor_outer = nengo.Node(outer,\n",
    "                            size_in=n_place + n_actor,\n",
    "                            size_out=n_place * n_actor)\n",
    "    # convolve place spikes with epsilon\n",
    "    nengo.Connection(place.neurons,\n",
    "                     actor_outer[:n_place],\n",
    "                     synapse=tau_m,\n",
    "                     transform=((eps_0 * tau_m) / (tau_m - tau_s)))\n",
    "    nengo.Connection(place.neurons,\n",
    "                     actor_outer[:n_place],\n",
    "                     synapse=tau_s,\n",
    "                     transform=-((eps_0 * tau_s) / (tau_m - tau_s)))\n",
    "    # Pass raw actor spikes into actor_outer\n",
    "    nengo.Connection(actor.neurons, actor_outer[n_place:], synapse=None)\n",
    "\n",
    "    \n",
    "    yolo = nengo.Node(1000*np.ones(n_actor))\n",
    "    nengo.Connection(yolo, actor.neurons)\n",
    "    \n",
    "    \n",
    "    action_selection_node = nengo.Node(output=None, size_in=1)\n",
    "    nengo.Connection(actor,\n",
    "                     action_selection_node, \n",
    "                     synapse=tau_gamma,\n",
    "                     transform=tau_gamma/(tau_gamma - v_gamma))\n",
    "    nengo.Connection(actor,\n",
    "                     action_selection_node,\n",
    "                     synapse=v_gamma,\n",
    "                     transform=(-v_gamma)/(tau_gamma - v_gamma))\n",
    "    \n",
    "    \n",
    "    actor_spikes = nengo.Probe(actor.neurons)\n",
    "    place_spikes = nengo.Probe(place.neurons)\n",
    "    \n",
    "sim = nengo.Simulator(model)\n",
    "with sim:\n",
    "    sim.run(1)"
   ]
  },
  {
   "cell_type": "code",
   "execution_count": 60,
   "metadata": {},
   "outputs": [
    {
     "data": {
      "text/plain": [
       "<matplotlib.axes._subplots.AxesSubplot at 0x12551da58>"
      ]
     },
     "execution_count": 60,
     "metadata": {},
     "output_type": "execute_result"
    },
    {
     "data": {
      "image/png": "[encoded data removed]",
      "text/plain": [
       "<Figure size 432x288 with 1 Axes>"
      ]
     },
     "metadata": {},
     "output_type": "display_data"
    }
   ],
   "source": [
    "end = 10\n",
    "rasterplot(sim.trange()[:end], sim.data[actor_spikes][:end])"
   ]
  },
  {
   "cell_type": "code",
   "execution_count": 58,
   "metadata": {
    "scrolled": true
   },
   "outputs": [
    {
     "data": {
      "text/plain": [
       "<matplotlib.axes._subplots.AxesSubplot at 0x1253cfc50>"
      ]
     },
     "execution_count": 58,
     "metadata": {},
     "output_type": "execute_result"
    },
    {
     "data": {
      "image/png": "[encoded data removed]",
      "text/plain": [
       "<Figure size 432x288 with 1 Axes>"
      ]
     },
     "metadata": {},
     "output_type": "display_data"
    }
   ],
   "source": [
    "end = 10\n",
    "rasterplot(sim.trange()[:end], sim.data[place_spikes][:end])"
   ]
  },
  {
   "cell_type": "code",
   "execution_count": null,
   "metadata": {},
   "outputs": [],
   "source": [
    "xs = []\n",
    "def yolo(t, x):\n",
    "    xs.append(x)\n",
    "\n",
    "model = nengo.Network()\n",
    "with model:\n",
    "    nd_input = nengo.Node(lambda t: 1 if t % 0.1 == 0 else 0 ,size_out=1)\n",
    "    td_error_node = nengo.Node(yolo, size_in=1)\n",
    "#     nengo.Connection(critic.neurons, td_error_node, synapse=None)\n",
    "    # convolve critic spikes with (K' - K/tau_r)\n",
    "    nengo.Connection(nd_input,\n",
    "                     td_error_node,\n",
    "                     synapse=tau_k,\n",
    "                     transform=((-tau_r - tau_k)/(tau_r*(tau_k-v_k))))\n",
    "    nengo.Connection(nd_input,\n",
    "                     td_error_node,\n",
    "                     synapse=v_k,\n",
    "                     transform=((tau_r + v_k)/(tau_r*(tau_k-v_k))))\n",
    "    \n",
    "with nengo.Simulator(model) as sim:\n",
    "    sim.run(5)\n",
    "    \n",
    "plt.plot(xs)"
   ]
  },
  {
   "cell_type": "code",
   "execution_count": null,
   "metadata": {},
   "outputs": [],
   "source": [
    "model = nengo.Network()\n",
    "with model:\n",
    "    nd_input = nengo.Node(lambda t: 1 if 0.1 < t < 0.4 else 0)\n",
    "    ens1 = nengo.Ensemble(100,1)\n",
    "    nengo.Connection(nd_input, ens1, synapse=0.05, transform=-1)\n",
    "#     nengo.Connection(nd_input, ens1, synapse=0.05, transform=1)\n",
    "    p0 = nengo.Probe(nd_input)\n",
    "    p1 = nengo.Probe(ens1)\n",
    "    p2 = nengo.Probe(ens1.neurons, attr='spikes')\n",
    "    \n",
    "dt = 1e-3\n",
    "T = 0.5\n",
    "with nengo.Simulator(model, dt=dt) as sim:\n",
    "    sim.run(T)\n",
    "\n",
    "ts = np.arange(0,T,dt)\n",
    "fig, ax = plt.subplots(1,3,figsize=(10,3))\n",
    "ax[0].plot(ts, sim.data[p0])\n",
    "ax[0].set_xlabel('t')\n",
    "ax[0].set_title('Input')\n",
    "ax[1].plot(ts, sim.data[p1])\n",
    "ax[1].set_xlabel('t')\n",
    "ax[1].set_title('First Ensemble')\n",
    "ax[2].plot(ts, sim.data[p2][:])\n",
    "ax[2].set_xlabel('t')\n",
    "ax[2].set_title('Second Ensemble')\n",
    "\n",
    "plt.tight_layout()"
   ]
  },
  {
   "cell_type": "code",
   "execution_count": null,
   "metadata": {},
   "outputs": [],
   "source": [
    "model = nengo.Network()\n",
    "with model:\n",
    "    a = nengo.Ensemble(n_neurons=100, dimensions=1)\n",
    "    b = nengo.Ensemble(n_neurons=50, dimensions=1)\n",
    "    \n",
    "w = 2*np.random.randn(b.n_neurons, a.n_neurons)/b.n_neurons\n",
    "def my_rule(t, x):\n",
    "    global w\n",
    "    output = np.dot(w, x)*0.001\n",
    "    w += np.random.randn(*w.shape)*0.01   # learning rule\n",
    "    return output\n",
    "\n",
    "def test(t,x):\n",
    "    ensemble_spikes = x[:b.n_neurons]\n",
    "    learner_spikes = x[b.n_neurons:]\n",
    "    return np.sum(np.abs(ensemble_spikes - learner_spikes))\n",
    "\n",
    "with model:\n",
    "    learner = nengo.Node(my_rule, size_in=a.n_neurons,\n",
    "                         size_out=b.n_neurons)\n",
    "\n",
    "    nengo.Connection(a.neurons, learner, synapse=None)\n",
    "    nengo.Connection(learner, b.neurons, synapse=0.05)\n",
    "    \n",
    "    test_node = nengo.Node(test, size_in=2*b.n_neurons)\n",
    "    nengo.Connection(b.neurons, test_node[:b.n_neurons], synapse=None)\n",
    "    nengo.Connection(learner, test_node[b.n_neurons:], synapse=None)\n",
    "    \n",
    "    test_probe = nengo.Probe(test_node, synapse=None)\n",
    "    \n",
    "with nengo.Simulator(model) as sim:\n",
    "    sim.run(1)\n",
    "    \n",
    "plt.plot(sim.data[test_probe])"
   ]
  },
  {
   "cell_type": "code",
   "execution_count": 1,
   "metadata": {},
   "outputs": [
    {
     "ename": "NameError",
     "evalue": "name 'nengo' is not defined",
     "output_type": "error",
     "traceback": [
      "\u001b[0;31m----------------------------------------------------------------\u001b[0m",
      "\u001b[0;31mNameError\u001b[0m                      Traceback (most recent call last)",
      "\u001b[0;32m<ipython-input-1-982594c11b54>\u001b[0m in \u001b[0;36m<module>\u001b[0;34m()\u001b[0m\n\u001b[1;32m     22\u001b[0m         \u001b[0mself\u001b[0m\u001b[0;34m.\u001b[0m\u001b[0mw\u001b[0m \u001b[0;34m+=\u001b[0m \u001b[0;34m-\u001b[0m\u001b[0mlearning_rate\u001b[0m\u001b[0;34m*\u001b[0m\u001b[0mdelta\u001b[0m\u001b[0;34m\u001b[0m\u001b[0;34m\u001b[0m\u001b[0m\n\u001b[1;32m     23\u001b[0m \u001b[0;34m\u001b[0m\u001b[0m\n\u001b[0;32m---> 24\u001b[0;31m \u001b[0me\u001b[0m \u001b[0;34m=\u001b[0m \u001b[0mLearningEnsemble\u001b[0m\u001b[0;34m(\u001b[0m\u001b[0;34m)\u001b[0m\u001b[0;34m\u001b[0m\u001b[0;34m\u001b[0m\u001b[0m\n\u001b[0m\u001b[1;32m     25\u001b[0m \u001b[0me\u001b[0m\u001b[0;34m.\u001b[0m\u001b[0mforward\u001b[0m\u001b[0;34m(\u001b[0m\u001b[0;34m[\u001b[0m\u001b[0;36m1\u001b[0m\u001b[0;34m,\u001b[0m\u001b[0;36m2\u001b[0m\u001b[0;34m,\u001b[0m\u001b[0;36m3\u001b[0m\u001b[0;34m,\u001b[0m\u001b[0;36m4\u001b[0m\u001b[0;34m]\u001b[0m\u001b[0;34m)\u001b[0m\u001b[0;34m\u001b[0m\u001b[0;34m\u001b[0m\u001b[0m\n",
      "\u001b[0;32m<ipython-input-1-982594c11b54>\u001b[0m in \u001b[0;36m__init__\u001b[0;34m(self, n_neurons, dimensions, seed)\u001b[0m\n\u001b[1;32m      1\u001b[0m \u001b[0;32mclass\u001b[0m \u001b[0mLearningEnsemble\u001b[0m\u001b[0;34m(\u001b[0m\u001b[0mobject\u001b[0m\u001b[0;34m)\u001b[0m\u001b[0;34m:\u001b[0m\u001b[0;34m\u001b[0m\u001b[0;34m\u001b[0m\u001b[0m\n\u001b[1;32m      2\u001b[0m     \u001b[0;32mdef\u001b[0m \u001b[0m__init__\u001b[0m\u001b[0;34m(\u001b[0m\u001b[0mself\u001b[0m\u001b[0;34m,\u001b[0m \u001b[0mn_neurons\u001b[0m\u001b[0;34m=\u001b[0m\u001b[0;36m128\u001b[0m\u001b[0;34m,\u001b[0m \u001b[0mdimensions\u001b[0m\u001b[0;34m=\u001b[0m\u001b[0;36m4\u001b[0m\u001b[0;34m,\u001b[0m \u001b[0mseed\u001b[0m\u001b[0;34m=\u001b[0m\u001b[0;36m0\u001b[0m\u001b[0;34m)\u001b[0m\u001b[0;34m:\u001b[0m\u001b[0;34m\u001b[0m\u001b[0;34m\u001b[0m\u001b[0m\n\u001b[0;32m----> 3\u001b[0;31m         \u001b[0mself\u001b[0m\u001b[0;34m.\u001b[0m\u001b[0mmodel\u001b[0m \u001b[0;34m=\u001b[0m \u001b[0mnengo\u001b[0m\u001b[0;34m.\u001b[0m\u001b[0mNetwork\u001b[0m\u001b[0;34m(\u001b[0m\u001b[0mseed\u001b[0m\u001b[0;34m=\u001b[0m\u001b[0mseed\u001b[0m\u001b[0;34m)\u001b[0m\u001b[0;34m\u001b[0m\u001b[0;34m\u001b[0m\u001b[0m\n\u001b[0m\u001b[1;32m      4\u001b[0m         \u001b[0;32mwith\u001b[0m \u001b[0mself\u001b[0m\u001b[0;34m.\u001b[0m\u001b[0mmodel\u001b[0m\u001b[0;34m:\u001b[0m\u001b[0;34m\u001b[0m\u001b[0;34m\u001b[0m\u001b[0m\n\u001b[1;32m      5\u001b[0m             self.ens = nengo.Ensemble(n_neurons=n_neurons,\n",
      "\u001b[0;31mNameError\u001b[0m: name 'nengo' is not defined"
     ]
    }
   ],
   "source": [
    "class LearningEnsemble(object):\n",
    "    def __init__(self, n_neurons=128, dimensions=4, seed=0):\n",
    "        self.model = nengo.Network(seed=seed)\n",
    "        with self.model:\n",
    "            self.ens = nengo.Ensemble(n_neurons=n_neurons,\n",
    "                                      dimensions=dimensions,\n",
    "                                      radius=2)\n",
    "        self.sim = nengo.Simulator(self.model)\n",
    "        \n",
    "        self.w = np.zeros((3, n_neurons))\n",
    "        \n",
    "    def forward(self, x):\n",
    "        _, act = nengo.utils.ensemble.tuning_curves(self.ens, self.sim, inputs=x)\n",
    "        print(act.shape)\n",
    "        y = self.w.dot(act)\n",
    "        return y\n",
    "    \n",
    "    def train(self, x, error, learning_rate=1e-4):\n",
    "        _, act = nengo.utils.ensemble.tuning_curves(self.ens, self.sim, inputs=x)\n",
    "        \n",
    "        delta = error.T.dot(act)\n",
    "        self.w += -learning_rate*delta\n",
    "\n",
    "e = LearningEnsemble()\n",
    "e.forward([1,2,3,4])"
   ]
  },
  {
   "cell_type": "code",
   "execution_count": null,
   "metadata": {},
   "outputs": [],
   "source": [
    "import gym\n",
    "env = gym.make('Pendulum-v0')\n",
    "for i_episode in range(2):\n",
    "    observation = env.reset()\n",
    "    print(observation)\n",
    "    for t in range(100):\n",
    "        env.render()\n",
    "        action = env.action_space.sample()\n",
    "        observation, reward, done, info = env.step(action)\n",
    "        print(action, observation, reward, done, info)\n",
    "        if done:\n",
    "            print(\"Episode finished after {} timesteps\".format(t+1))\n",
    "            break\n",
    "env.close()"
   ]
  }
 ],
 "metadata": {
  "kernelspec": {
   "display_name": "Python 3",
   "language": "python",
   "name": "python3"
  },
  "language_info": {
   "codemirror_mode": {
    "name": "ipython",
    "version": 3
   },
   "file_extension": ".py",
   "mimetype": "text/x-python",
   "name": "python",
   "nbconvert_exporter": "python",
   "pygments_lexer": "ipython3",
   "version": "3.6.9"
  }
 },
 "nbformat": 4,
 "nbformat_minor": 2
}
